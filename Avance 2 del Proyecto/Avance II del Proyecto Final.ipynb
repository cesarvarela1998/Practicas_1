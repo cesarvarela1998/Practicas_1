{
 "cells": [
  {
   "cell_type": "markdown",
   "metadata": {},
   "source": [
    "# Avance 2 del Proyecto Final"
   ]
  },
  {
   "cell_type": "markdown",
   "metadata": {},
   "source": [
    "### Integrantes del equipo: "
   ]
  },
  {
   "cell_type": "markdown",
   "metadata": {},
   "source": [
    "Francisco Ramon Ramiez Torres; Cesar Gerardo Varela Cavazos; Cesar Alejandro Barrera Martinez"
   ]
  },
  {
   "cell_type": "markdown",
   "metadata": {},
   "source": [
    "## Titulo: Video Games Sales. (Información histórica de ventas de videojuegos)"
   ]
  },
  {
   "cell_type": "markdown",
   "metadata": {},
   "source": [
    "### Descripcion de la base de datos: "
   ]
  },
  {
   "cell_type": "markdown",
   "metadata": {},
   "source": [
    "Esta base de datos contiene toda la historia de los videojuegos lanzados en su respectivo, año fundada en una empresa en particular, con su respectiva plataforma y las ventas que ha tenido en el Norte de America, EE.UU, Japon, etc; al igual que las ventas globales que ha tenido."
   ]
  },
  {
   "cell_type": "markdown",
   "metadata": {},
   "source": [
    "### Descripcion de las columas:"
   ]
  },
  {
   "cell_type": "markdown",
   "metadata": {},
   "source": [
    "•\tName: Nombre del videojuego.\n",
    "\n",
    "•\tPlatform: Plataforma/consola de videojuego.\n",
    "\n",
    "•\tYear: Año de lanzamiento del videojuego.\n",
    "\n",
    "•\tGenre: Genero del videojuego (deportes, shooter, acción, RPG, Terror, etc)\n",
    "\n",
    "•\tPublisher: Empresa que lanza el videojuego (EA,Ubisoft,Activision,Atari,Bandai)\n",
    "\n",
    "•\tNA_Sales: Ventas en Norte América.\n",
    "\n",
    "•\tEU_Sales: Ventas en Estados Unidos.\n",
    "\n",
    "•\tJP_Sales: Ventas en Japón.\n",
    "\n",
    "•\tOther Sales: Otras ventas.\n",
    "\n",
    "•   Critic_Score\n",
    "\n",
    "•   Critic_Count       \n",
    "\n",
    "•   User_Score         \n",
    "\n",
    "•   User_Count         \n",
    "\n",
    "•   Developer           \n",
    "\n",
    "•   Rating            "
   ]
  },
  {
   "cell_type": "markdown",
   "metadata": {},
   "source": [
    "### Justificacion del uso de los datos."
   ]
  },
  {
   "cell_type": "markdown",
   "metadata": {},
   "source": [
    "a). Cuáles fueron las características que les llamó la atención de los datos. Qué les hizo querer trabajar con ellos."
   ]
  },
  {
   "cell_type": "markdown",
   "metadata": {},
   "source": [
    "La diversa información acerca de los videojuegos, como la distribución de venta, popularidad de videojuegos, diversa variedad con géneros en los títulos de videojuegos y competencia entre empresas que tienen juegos similares en popularidad."
   ]
  },
  {
   "cell_type": "markdown",
   "metadata": {},
   "source": [
    "b)\tQué beneficio encuentran de trabajar con estos datos."
   ]
  },
  {
   "cell_type": "markdown",
   "metadata": {},
   "source": [
    "Poder encontrar algún beneficio de manera que podemos calcular un precio estimado de un videojuego, ver un análisis de ventas sobre cómo se han visto ventas con otras empresas, podemos ver qué clase de videojuegos se han vendido más a través de los años según su aceptación para las empresas que se dedican a crear juegos puedan saber que genero es el que deben crear más."
   ]
  },
  {
   "cell_type": "markdown",
   "metadata": {},
   "source": [
    "### Preguntas de Interes"
   ]
  },
  {
   "cell_type": "markdown",
   "metadata": {},
   "source": [
    "¿Cuál es la percepción de aceptación de un videojuego de alguna empresa (simulando una venta en una región)?\n",
    "\n",
    "¿Con los datos de la base de datos de videojuegos como se pueden clasificar aplicando algún método de minería de datos?\n",
    "\n",
    "¿Cómo se puede aplicar una red neuronal con de tipo clasificación con la base de datos?"
   ]
  },
  {
   "cell_type": "markdown",
   "metadata": {},
   "source": [
    "### Manipulacion de la informacion"
   ]
  },
  {
   "cell_type": "code",
   "execution_count": 1,
   "metadata": {},
   "outputs": [],
   "source": [
    "import numpy as np\n",
    "import pandas_profiling\n",
    "import pandas as pd\n",
    "import json\n",
    "import matplotlib as plt"
   ]
  },
  {
   "cell_type": "markdown",
   "metadata": {},
   "source": [
    "a)\tMostrar los datos sin manipulación."
   ]
  },
  {
   "cell_type": "markdown",
   "metadata": {},
   "source": [
    "Para mejor entendimiento de como esta compuesta la base de datos, se comenzara visualizando la informacion de toda la tabla, debido a que contiene arriba de 11,000 elementos, se visualizaran los primeros 10.  "
   ]
  },
  {
   "cell_type": "code",
   "execution_count": 2,
   "metadata": {},
   "outputs": [
    {
     "data": {
      "text/html": [
       "<div>\n",
       "<style scoped>\n",
       "    .dataframe tbody tr th:only-of-type {\n",
       "        vertical-align: middle;\n",
       "    }\n",
       "\n",
       "    .dataframe tbody tr th {\n",
       "        vertical-align: top;\n",
       "    }\n",
       "\n",
       "    .dataframe thead th {\n",
       "        text-align: right;\n",
       "    }\n",
       "</style>\n",
       "<table border=\"1\" class=\"dataframe\">\n",
       "  <thead>\n",
       "    <tr style=\"text-align: right;\">\n",
       "      <th></th>\n",
       "      <th>Name</th>\n",
       "      <th>Platform</th>\n",
       "      <th>Year_of_Release</th>\n",
       "      <th>Genre</th>\n",
       "      <th>Publisher</th>\n",
       "      <th>NA_Sales</th>\n",
       "      <th>EU_Sales</th>\n",
       "      <th>JP_Sales</th>\n",
       "      <th>Other_Sales</th>\n",
       "      <th>Critic_Score</th>\n",
       "      <th>Critic_Count</th>\n",
       "      <th>User_Score</th>\n",
       "      <th>User_Count</th>\n",
       "      <th>Developer</th>\n",
       "      <th>Rating</th>\n",
       "    </tr>\n",
       "  </thead>\n",
       "  <tbody>\n",
       "    <tr>\n",
       "      <td>0</td>\n",
       "      <td>Rapala Trophies</td>\n",
       "      <td>PSP</td>\n",
       "      <td>2006.0</td>\n",
       "      <td>Sports</td>\n",
       "      <td>Activision</td>\n",
       "      <td>0.04</td>\n",
       "      <td>0.00</td>\n",
       "      <td>0.00</td>\n",
       "      <td>0.00</td>\n",
       "      <td>NaN</td>\n",
       "      <td>NaN</td>\n",
       "      <td>NaN</td>\n",
       "      <td>NaN</td>\n",
       "      <td>Sand Grain Studios</td>\n",
       "      <td>E</td>\n",
       "    </tr>\n",
       "    <tr>\n",
       "      <td>1</td>\n",
       "      <td>New Super Mario Bros. U</td>\n",
       "      <td>WiiU</td>\n",
       "      <td>2012.0</td>\n",
       "      <td>Platform</td>\n",
       "      <td>Nintendo</td>\n",
       "      <td>2.30</td>\n",
       "      <td>1.34</td>\n",
       "      <td>1.27</td>\n",
       "      <td>0.32</td>\n",
       "      <td>84.0</td>\n",
       "      <td>70.0</td>\n",
       "      <td>8.1</td>\n",
       "      <td>733.0</td>\n",
       "      <td>Nintendo</td>\n",
       "      <td>E</td>\n",
       "    </tr>\n",
       "    <tr>\n",
       "      <td>2</td>\n",
       "      <td>Robots</td>\n",
       "      <td>PS2</td>\n",
       "      <td>2005.0</td>\n",
       "      <td>Action</td>\n",
       "      <td>Vivendi Games</td>\n",
       "      <td>0.18</td>\n",
       "      <td>0.14</td>\n",
       "      <td>0.00</td>\n",
       "      <td>0.05</td>\n",
       "      <td>53.0</td>\n",
       "      <td>6.0</td>\n",
       "      <td>6.0</td>\n",
       "      <td>8.0</td>\n",
       "      <td>Eurocom Entertainment Software</td>\n",
       "      <td>E</td>\n",
       "    </tr>\n",
       "    <tr>\n",
       "      <td>3</td>\n",
       "      <td>Hamster Club 3</td>\n",
       "      <td>GBA</td>\n",
       "      <td>2002.0</td>\n",
       "      <td>Simulation</td>\n",
       "      <td>Jorudan</td>\n",
       "      <td>0.00</td>\n",
       "      <td>0.00</td>\n",
       "      <td>0.35</td>\n",
       "      <td>0.01</td>\n",
       "      <td>NaN</td>\n",
       "      <td>NaN</td>\n",
       "      <td>NaN</td>\n",
       "      <td>NaN</td>\n",
       "      <td>NaN</td>\n",
       "      <td>NaN</td>\n",
       "    </tr>\n",
       "    <tr>\n",
       "      <td>4</td>\n",
       "      <td>Formula 1 06</td>\n",
       "      <td>PS2</td>\n",
       "      <td>2006.0</td>\n",
       "      <td>Racing</td>\n",
       "      <td>Sony Computer Entertainment</td>\n",
       "      <td>0.00</td>\n",
       "      <td>0.00</td>\n",
       "      <td>0.04</td>\n",
       "      <td>0.00</td>\n",
       "      <td>NaN</td>\n",
       "      <td>NaN</td>\n",
       "      <td>NaN</td>\n",
       "      <td>NaN</td>\n",
       "      <td>NaN</td>\n",
       "      <td>NaN</td>\n",
       "    </tr>\n",
       "    <tr>\n",
       "      <td>5</td>\n",
       "      <td>My Ballet Studio</td>\n",
       "      <td>Wii</td>\n",
       "      <td>2009.0</td>\n",
       "      <td>Simulation</td>\n",
       "      <td>505 Games</td>\n",
       "      <td>0.02</td>\n",
       "      <td>0.00</td>\n",
       "      <td>0.00</td>\n",
       "      <td>0.00</td>\n",
       "      <td>NaN</td>\n",
       "      <td>NaN</td>\n",
       "      <td>NaN</td>\n",
       "      <td>NaN</td>\n",
       "      <td>505 Games</td>\n",
       "      <td>E</td>\n",
       "    </tr>\n",
       "    <tr>\n",
       "      <td>6</td>\n",
       "      <td>EVE Online</td>\n",
       "      <td>PC</td>\n",
       "      <td>2003.0</td>\n",
       "      <td>Role-Playing</td>\n",
       "      <td>CCP</td>\n",
       "      <td>0.00</td>\n",
       "      <td>0.19</td>\n",
       "      <td>0.00</td>\n",
       "      <td>0.01</td>\n",
       "      <td>69.0</td>\n",
       "      <td>22.0</td>\n",
       "      <td>7.5</td>\n",
       "      <td>280.0</td>\n",
       "      <td>CCP</td>\n",
       "      <td>T</td>\n",
       "    </tr>\n",
       "    <tr>\n",
       "      <td>7</td>\n",
       "      <td>S.T.A.L.K.E.R.: Shadow of Chernobyl</td>\n",
       "      <td>PC</td>\n",
       "      <td>2007.0</td>\n",
       "      <td>Shooter</td>\n",
       "      <td>THQ</td>\n",
       "      <td>0.01</td>\n",
       "      <td>0.04</td>\n",
       "      <td>0.00</td>\n",
       "      <td>0.01</td>\n",
       "      <td>82.0</td>\n",
       "      <td>44.0</td>\n",
       "      <td>8.4</td>\n",
       "      <td>1088.0</td>\n",
       "      <td>GSC Game World</td>\n",
       "      <td>M</td>\n",
       "    </tr>\n",
       "    <tr>\n",
       "      <td>8</td>\n",
       "      <td>Madden NFL 2003</td>\n",
       "      <td>XB</td>\n",
       "      <td>2002.0</td>\n",
       "      <td>Sports</td>\n",
       "      <td>Electronic Arts</td>\n",
       "      <td>0.67</td>\n",
       "      <td>0.02</td>\n",
       "      <td>0.00</td>\n",
       "      <td>0.03</td>\n",
       "      <td>92.0</td>\n",
       "      <td>16.0</td>\n",
       "      <td>8.3</td>\n",
       "      <td>16.0</td>\n",
       "      <td>EA Tiburon</td>\n",
       "      <td>E</td>\n",
       "    </tr>\n",
       "    <tr>\n",
       "      <td>9</td>\n",
       "      <td>Shin Super Robot Taisen</td>\n",
       "      <td>PS</td>\n",
       "      <td>1996.0</td>\n",
       "      <td>Role-Playing</td>\n",
       "      <td>Banpresto</td>\n",
       "      <td>0.00</td>\n",
       "      <td>0.00</td>\n",
       "      <td>0.52</td>\n",
       "      <td>0.04</td>\n",
       "      <td>NaN</td>\n",
       "      <td>NaN</td>\n",
       "      <td>NaN</td>\n",
       "      <td>NaN</td>\n",
       "      <td>NaN</td>\n",
       "      <td>NaN</td>\n",
       "    </tr>\n",
       "  </tbody>\n",
       "</table>\n",
       "</div>"
      ],
      "text/plain": [
       "                                  Name Platform  Year_of_Release  \\\n",
       "0                      Rapala Trophies      PSP           2006.0   \n",
       "1              New Super Mario Bros. U     WiiU           2012.0   \n",
       "2                               Robots      PS2           2005.0   \n",
       "3                       Hamster Club 3      GBA           2002.0   \n",
       "4                         Formula 1 06      PS2           2006.0   \n",
       "5                     My Ballet Studio      Wii           2009.0   \n",
       "6                           EVE Online       PC           2003.0   \n",
       "7  S.T.A.L.K.E.R.: Shadow of Chernobyl       PC           2007.0   \n",
       "8                      Madden NFL 2003       XB           2002.0   \n",
       "9              Shin Super Robot Taisen       PS           1996.0   \n",
       "\n",
       "          Genre                    Publisher  NA_Sales  EU_Sales  JP_Sales  \\\n",
       "0        Sports                   Activision      0.04      0.00      0.00   \n",
       "1      Platform                     Nintendo      2.30      1.34      1.27   \n",
       "2        Action                Vivendi Games      0.18      0.14      0.00   \n",
       "3    Simulation                      Jorudan      0.00      0.00      0.35   \n",
       "4        Racing  Sony Computer Entertainment      0.00      0.00      0.04   \n",
       "5    Simulation                    505 Games      0.02      0.00      0.00   \n",
       "6  Role-Playing                          CCP      0.00      0.19      0.00   \n",
       "7       Shooter                          THQ      0.01      0.04      0.00   \n",
       "8        Sports              Electronic Arts      0.67      0.02      0.00   \n",
       "9  Role-Playing                    Banpresto      0.00      0.00      0.52   \n",
       "\n",
       "   Other_Sales  Critic_Score  Critic_Count  User_Score  User_Count  \\\n",
       "0         0.00           NaN           NaN         NaN         NaN   \n",
       "1         0.32          84.0          70.0         8.1       733.0   \n",
       "2         0.05          53.0           6.0         6.0         8.0   \n",
       "3         0.01           NaN           NaN         NaN         NaN   \n",
       "4         0.00           NaN           NaN         NaN         NaN   \n",
       "5         0.00           NaN           NaN         NaN         NaN   \n",
       "6         0.01          69.0          22.0         7.5       280.0   \n",
       "7         0.01          82.0          44.0         8.4      1088.0   \n",
       "8         0.03          92.0          16.0         8.3        16.0   \n",
       "9         0.04           NaN           NaN         NaN         NaN   \n",
       "\n",
       "                        Developer Rating  \n",
       "0              Sand Grain Studios      E  \n",
       "1                        Nintendo      E  \n",
       "2  Eurocom Entertainment Software      E  \n",
       "3                             NaN    NaN  \n",
       "4                             NaN    NaN  \n",
       "5                       505 Games      E  \n",
       "6                             CCP      T  \n",
       "7                  GSC Game World      M  \n",
       "8                      EA Tiburon      E  \n",
       "9                             NaN    NaN  "
      ]
     },
     "execution_count": 2,
     "metadata": {},
     "output_type": "execute_result"
    }
   ],
   "source": [
    "bd= pd.read_csv(\"train.csv\")\n",
    "bd.head(10)"
   ]
  },
  {
   "cell_type": "code",
   "execution_count": 4,
   "metadata": {},
   "outputs": [
    {
     "data": {
      "text/plain": [
       "Name                object\n",
       "Platform            object\n",
       "Year_of_Release    float64\n",
       "Genre               object\n",
       "Publisher           object\n",
       "NA_Sales           float64\n",
       "EU_Sales           float64\n",
       "JP_Sales           float64\n",
       "Other_Sales        float64\n",
       "Critic_Score       float64\n",
       "Critic_Count       float64\n",
       "User_Score         float64\n",
       "User_Count         float64\n",
       "Developer           object\n",
       "Rating              object\n",
       "dtype: object"
      ]
     },
     "execution_count": 4,
     "metadata": {},
     "output_type": "execute_result"
    }
   ],
   "source": [
    "bd.dtypes"
   ]
  },
  {
   "cell_type": "markdown",
   "metadata": {},
   "source": [
    "Despues veremos si la tabla contiene valores nulos con la siguinte respuesta: si marca 'True' significa que no hay columnas que no tienen registros; si manrca 'False' es que si hay registro de cada columna, como se muestra a continuacion:"
   ]
  },
  {
   "cell_type": "code",
   "execution_count": 5,
   "metadata": {},
   "outputs": [
    {
     "data": {
      "text/plain": [
       "Name                True\n",
       "Platform           False\n",
       "Year_of_Release     True\n",
       "Genre               True\n",
       "Publisher           True\n",
       "NA_Sales           False\n",
       "EU_Sales           False\n",
       "JP_Sales           False\n",
       "Other_Sales        False\n",
       "Critic_Score        True\n",
       "Critic_Count        True\n",
       "User_Score          True\n",
       "User_Count          True\n",
       "Developer           True\n",
       "Rating              True\n",
       "dtype: bool"
      ]
     },
     "execution_count": 5,
     "metadata": {},
     "output_type": "execute_result"
    }
   ],
   "source": [
    "bd.isnull().any()"
   ]
  },
  {
   "cell_type": "markdown",
   "metadata": {},
   "source": [
    "b)\tEliminar columnas no deseadas."
   ]
  },
  {
   "cell_type": "markdown",
   "metadata": {},
   "source": [
    "Por lo que vemos que las columnas que contienen en alguin registro de la tabla son las columnas: Name, Year_od_Release, Genre, Publisher, Critic_Score, Critic_Count, User_Score, User_Cont, Developer, Rating.\n",
    "\n",
    "Y se van a quitar algunas de esas columnas que no nos seran de utilidad para el analisis que vamos a hacer, las cuales son: Critic_Score, Critic_Count, User_Score, User_Cont, Developer; debido a que si observamos la base de datos a porfundidad, se vera que estas columnas son las que mas datos contienen."
   ]
  },
  {
   "cell_type": "code",
   "execution_count": 6,
   "metadata": {},
   "outputs": [
    {
     "data": {
      "text/html": [
       "<div>\n",
       "<style scoped>\n",
       "    .dataframe tbody tr th:only-of-type {\n",
       "        vertical-align: middle;\n",
       "    }\n",
       "\n",
       "    .dataframe tbody tr th {\n",
       "        vertical-align: top;\n",
       "    }\n",
       "\n",
       "    .dataframe thead th {\n",
       "        text-align: right;\n",
       "    }\n",
       "</style>\n",
       "<table border=\"1\" class=\"dataframe\">\n",
       "  <thead>\n",
       "    <tr style=\"text-align: right;\">\n",
       "      <th></th>\n",
       "      <th>Name</th>\n",
       "      <th>Platform</th>\n",
       "      <th>Year_of_Release</th>\n",
       "      <th>Genre</th>\n",
       "      <th>Publisher</th>\n",
       "      <th>NA_Sales</th>\n",
       "      <th>EU_Sales</th>\n",
       "      <th>JP_Sales</th>\n",
       "      <th>Other_Sales</th>\n",
       "      <th>Rating</th>\n",
       "    </tr>\n",
       "  </thead>\n",
       "  <tbody>\n",
       "    <tr>\n",
       "      <td>0</td>\n",
       "      <td>Rapala Trophies</td>\n",
       "      <td>PSP</td>\n",
       "      <td>2006.0</td>\n",
       "      <td>Sports</td>\n",
       "      <td>Activision</td>\n",
       "      <td>0.04</td>\n",
       "      <td>0.00</td>\n",
       "      <td>0.00</td>\n",
       "      <td>0.00</td>\n",
       "      <td>E</td>\n",
       "    </tr>\n",
       "    <tr>\n",
       "      <td>1</td>\n",
       "      <td>New Super Mario Bros. U</td>\n",
       "      <td>WiiU</td>\n",
       "      <td>2012.0</td>\n",
       "      <td>Platform</td>\n",
       "      <td>Nintendo</td>\n",
       "      <td>2.30</td>\n",
       "      <td>1.34</td>\n",
       "      <td>1.27</td>\n",
       "      <td>0.32</td>\n",
       "      <td>E</td>\n",
       "    </tr>\n",
       "    <tr>\n",
       "      <td>2</td>\n",
       "      <td>Robots</td>\n",
       "      <td>PS2</td>\n",
       "      <td>2005.0</td>\n",
       "      <td>Action</td>\n",
       "      <td>Vivendi Games</td>\n",
       "      <td>0.18</td>\n",
       "      <td>0.14</td>\n",
       "      <td>0.00</td>\n",
       "      <td>0.05</td>\n",
       "      <td>E</td>\n",
       "    </tr>\n",
       "    <tr>\n",
       "      <td>3</td>\n",
       "      <td>Hamster Club 3</td>\n",
       "      <td>GBA</td>\n",
       "      <td>2002.0</td>\n",
       "      <td>Simulation</td>\n",
       "      <td>Jorudan</td>\n",
       "      <td>0.00</td>\n",
       "      <td>0.00</td>\n",
       "      <td>0.35</td>\n",
       "      <td>0.01</td>\n",
       "      <td>NaN</td>\n",
       "    </tr>\n",
       "    <tr>\n",
       "      <td>4</td>\n",
       "      <td>Formula 1 06</td>\n",
       "      <td>PS2</td>\n",
       "      <td>2006.0</td>\n",
       "      <td>Racing</td>\n",
       "      <td>Sony Computer Entertainment</td>\n",
       "      <td>0.00</td>\n",
       "      <td>0.00</td>\n",
       "      <td>0.04</td>\n",
       "      <td>0.00</td>\n",
       "      <td>NaN</td>\n",
       "    </tr>\n",
       "    <tr>\n",
       "      <td>5</td>\n",
       "      <td>My Ballet Studio</td>\n",
       "      <td>Wii</td>\n",
       "      <td>2009.0</td>\n",
       "      <td>Simulation</td>\n",
       "      <td>505 Games</td>\n",
       "      <td>0.02</td>\n",
       "      <td>0.00</td>\n",
       "      <td>0.00</td>\n",
       "      <td>0.00</td>\n",
       "      <td>E</td>\n",
       "    </tr>\n",
       "    <tr>\n",
       "      <td>6</td>\n",
       "      <td>EVE Online</td>\n",
       "      <td>PC</td>\n",
       "      <td>2003.0</td>\n",
       "      <td>Role-Playing</td>\n",
       "      <td>CCP</td>\n",
       "      <td>0.00</td>\n",
       "      <td>0.19</td>\n",
       "      <td>0.00</td>\n",
       "      <td>0.01</td>\n",
       "      <td>T</td>\n",
       "    </tr>\n",
       "    <tr>\n",
       "      <td>7</td>\n",
       "      <td>S.T.A.L.K.E.R.: Shadow of Chernobyl</td>\n",
       "      <td>PC</td>\n",
       "      <td>2007.0</td>\n",
       "      <td>Shooter</td>\n",
       "      <td>THQ</td>\n",
       "      <td>0.01</td>\n",
       "      <td>0.04</td>\n",
       "      <td>0.00</td>\n",
       "      <td>0.01</td>\n",
       "      <td>M</td>\n",
       "    </tr>\n",
       "    <tr>\n",
       "      <td>8</td>\n",
       "      <td>Madden NFL 2003</td>\n",
       "      <td>XB</td>\n",
       "      <td>2002.0</td>\n",
       "      <td>Sports</td>\n",
       "      <td>Electronic Arts</td>\n",
       "      <td>0.67</td>\n",
       "      <td>0.02</td>\n",
       "      <td>0.00</td>\n",
       "      <td>0.03</td>\n",
       "      <td>E</td>\n",
       "    </tr>\n",
       "    <tr>\n",
       "      <td>9</td>\n",
       "      <td>Shin Super Robot Taisen</td>\n",
       "      <td>PS</td>\n",
       "      <td>1996.0</td>\n",
       "      <td>Role-Playing</td>\n",
       "      <td>Banpresto</td>\n",
       "      <td>0.00</td>\n",
       "      <td>0.00</td>\n",
       "      <td>0.52</td>\n",
       "      <td>0.04</td>\n",
       "      <td>NaN</td>\n",
       "    </tr>\n",
       "  </tbody>\n",
       "</table>\n",
       "</div>"
      ],
      "text/plain": [
       "                                  Name Platform  Year_of_Release  \\\n",
       "0                      Rapala Trophies      PSP           2006.0   \n",
       "1              New Super Mario Bros. U     WiiU           2012.0   \n",
       "2                               Robots      PS2           2005.0   \n",
       "3                       Hamster Club 3      GBA           2002.0   \n",
       "4                         Formula 1 06      PS2           2006.0   \n",
       "5                     My Ballet Studio      Wii           2009.0   \n",
       "6                           EVE Online       PC           2003.0   \n",
       "7  S.T.A.L.K.E.R.: Shadow of Chernobyl       PC           2007.0   \n",
       "8                      Madden NFL 2003       XB           2002.0   \n",
       "9              Shin Super Robot Taisen       PS           1996.0   \n",
       "\n",
       "          Genre                    Publisher  NA_Sales  EU_Sales  JP_Sales  \\\n",
       "0        Sports                   Activision      0.04      0.00      0.00   \n",
       "1      Platform                     Nintendo      2.30      1.34      1.27   \n",
       "2        Action                Vivendi Games      0.18      0.14      0.00   \n",
       "3    Simulation                      Jorudan      0.00      0.00      0.35   \n",
       "4        Racing  Sony Computer Entertainment      0.00      0.00      0.04   \n",
       "5    Simulation                    505 Games      0.02      0.00      0.00   \n",
       "6  Role-Playing                          CCP      0.00      0.19      0.00   \n",
       "7       Shooter                          THQ      0.01      0.04      0.00   \n",
       "8        Sports              Electronic Arts      0.67      0.02      0.00   \n",
       "9  Role-Playing                    Banpresto      0.00      0.00      0.52   \n",
       "\n",
       "   Other_Sales Rating  \n",
       "0         0.00      E  \n",
       "1         0.32      E  \n",
       "2         0.05      E  \n",
       "3         0.01    NaN  \n",
       "4         0.00    NaN  \n",
       "5         0.00      E  \n",
       "6         0.01      T  \n",
       "7         0.01      M  \n",
       "8         0.03      E  \n",
       "9         0.04    NaN  "
      ]
     },
     "execution_count": 6,
     "metadata": {},
     "output_type": "execute_result"
    }
   ],
   "source": [
    "cambios= bd.drop(['User_Count', 'User_Score', 'Critic_Count','Critic_Score','Developer'], axis=1)\n",
    "cambios.head(10)"
   ]
  },
  {
   "cell_type": "markdown",
   "metadata": {},
   "source": [
    "c)\tCorrecta manipulación de los datos nulos dentro de la base de datos."
   ]
  },
  {
   "cell_type": "markdown",
   "metadata": {},
   "source": [
    "Una vez hecho esto, se eliminaran los registros de que contengan algun dato nulo, para poder trabajar con registros completos en su totalidad, y lo gradaremos en una nueva variable."
   ]
  },
  {
   "cell_type": "code",
   "execution_count": 7,
   "metadata": {},
   "outputs": [
    {
     "data": {
      "text/html": [
       "<div>\n",
       "<style scoped>\n",
       "    .dataframe tbody tr th:only-of-type {\n",
       "        vertical-align: middle;\n",
       "    }\n",
       "\n",
       "    .dataframe tbody tr th {\n",
       "        vertical-align: top;\n",
       "    }\n",
       "\n",
       "    .dataframe thead th {\n",
       "        text-align: right;\n",
       "    }\n",
       "</style>\n",
       "<table border=\"1\" class=\"dataframe\">\n",
       "  <thead>\n",
       "    <tr style=\"text-align: right;\">\n",
       "      <th></th>\n",
       "      <th>Name</th>\n",
       "      <th>Platform</th>\n",
       "      <th>Year_of_Release</th>\n",
       "      <th>Genre</th>\n",
       "      <th>Publisher</th>\n",
       "      <th>NA_Sales</th>\n",
       "      <th>EU_Sales</th>\n",
       "      <th>JP_Sales</th>\n",
       "      <th>Other_Sales</th>\n",
       "      <th>Rating</th>\n",
       "    </tr>\n",
       "  </thead>\n",
       "  <tbody>\n",
       "    <tr>\n",
       "      <td>0</td>\n",
       "      <td>Rapala Trophies</td>\n",
       "      <td>PSP</td>\n",
       "      <td>2006.0</td>\n",
       "      <td>Sports</td>\n",
       "      <td>Activision</td>\n",
       "      <td>0.04</td>\n",
       "      <td>0.00</td>\n",
       "      <td>0.00</td>\n",
       "      <td>0.00</td>\n",
       "      <td>E</td>\n",
       "    </tr>\n",
       "    <tr>\n",
       "      <td>1</td>\n",
       "      <td>New Super Mario Bros. U</td>\n",
       "      <td>WiiU</td>\n",
       "      <td>2012.0</td>\n",
       "      <td>Platform</td>\n",
       "      <td>Nintendo</td>\n",
       "      <td>2.30</td>\n",
       "      <td>1.34</td>\n",
       "      <td>1.27</td>\n",
       "      <td>0.32</td>\n",
       "      <td>E</td>\n",
       "    </tr>\n",
       "    <tr>\n",
       "      <td>2</td>\n",
       "      <td>Robots</td>\n",
       "      <td>PS2</td>\n",
       "      <td>2005.0</td>\n",
       "      <td>Action</td>\n",
       "      <td>Vivendi Games</td>\n",
       "      <td>0.18</td>\n",
       "      <td>0.14</td>\n",
       "      <td>0.00</td>\n",
       "      <td>0.05</td>\n",
       "      <td>E</td>\n",
       "    </tr>\n",
       "    <tr>\n",
       "      <td>5</td>\n",
       "      <td>My Ballet Studio</td>\n",
       "      <td>Wii</td>\n",
       "      <td>2009.0</td>\n",
       "      <td>Simulation</td>\n",
       "      <td>505 Games</td>\n",
       "      <td>0.02</td>\n",
       "      <td>0.00</td>\n",
       "      <td>0.00</td>\n",
       "      <td>0.00</td>\n",
       "      <td>E</td>\n",
       "    </tr>\n",
       "    <tr>\n",
       "      <td>6</td>\n",
       "      <td>EVE Online</td>\n",
       "      <td>PC</td>\n",
       "      <td>2003.0</td>\n",
       "      <td>Role-Playing</td>\n",
       "      <td>CCP</td>\n",
       "      <td>0.00</td>\n",
       "      <td>0.19</td>\n",
       "      <td>0.00</td>\n",
       "      <td>0.01</td>\n",
       "      <td>T</td>\n",
       "    </tr>\n",
       "    <tr>\n",
       "      <td>...</td>\n",
       "      <td>...</td>\n",
       "      <td>...</td>\n",
       "      <td>...</td>\n",
       "      <td>...</td>\n",
       "      <td>...</td>\n",
       "      <td>...</td>\n",
       "      <td>...</td>\n",
       "      <td>...</td>\n",
       "      <td>...</td>\n",
       "      <td>...</td>\n",
       "    </tr>\n",
       "    <tr>\n",
       "      <td>11696</td>\n",
       "      <td>Secret Files: Tunguska</td>\n",
       "      <td>Wii</td>\n",
       "      <td>2008.0</td>\n",
       "      <td>Adventure</td>\n",
       "      <td>Koch Media</td>\n",
       "      <td>0.04</td>\n",
       "      <td>0.01</td>\n",
       "      <td>0.00</td>\n",
       "      <td>0.00</td>\n",
       "      <td>T</td>\n",
       "    </tr>\n",
       "    <tr>\n",
       "      <td>11698</td>\n",
       "      <td>Call of Duty: Black Ops</td>\n",
       "      <td>X360</td>\n",
       "      <td>2010.0</td>\n",
       "      <td>Shooter</td>\n",
       "      <td>Activision</td>\n",
       "      <td>9.70</td>\n",
       "      <td>3.68</td>\n",
       "      <td>0.11</td>\n",
       "      <td>1.13</td>\n",
       "      <td>M</td>\n",
       "    </tr>\n",
       "    <tr>\n",
       "      <td>11699</td>\n",
       "      <td>Resistance 3</td>\n",
       "      <td>PS3</td>\n",
       "      <td>2011.0</td>\n",
       "      <td>Shooter</td>\n",
       "      <td>Sony Computer Entertainment</td>\n",
       "      <td>0.64</td>\n",
       "      <td>0.57</td>\n",
       "      <td>0.05</td>\n",
       "      <td>0.22</td>\n",
       "      <td>M</td>\n",
       "    </tr>\n",
       "    <tr>\n",
       "      <td>11700</td>\n",
       "      <td>Ready 2 Rumble Revolution</td>\n",
       "      <td>Wii</td>\n",
       "      <td>2009.0</td>\n",
       "      <td>Sports</td>\n",
       "      <td>Atari</td>\n",
       "      <td>0.15</td>\n",
       "      <td>0.00</td>\n",
       "      <td>0.00</td>\n",
       "      <td>0.01</td>\n",
       "      <td>T</td>\n",
       "    </tr>\n",
       "    <tr>\n",
       "      <td>11702</td>\n",
       "      <td>NHL 2K9</td>\n",
       "      <td>PS3</td>\n",
       "      <td>2008.0</td>\n",
       "      <td>Sports</td>\n",
       "      <td>Take-Two Interactive</td>\n",
       "      <td>0.11</td>\n",
       "      <td>0.01</td>\n",
       "      <td>0.00</td>\n",
       "      <td>0.01</td>\n",
       "      <td>E10+</td>\n",
       "    </tr>\n",
       "  </tbody>\n",
       "</table>\n",
       "<p>6822 rows × 10 columns</p>\n",
       "</div>"
      ],
      "text/plain": [
       "                            Name Platform  Year_of_Release         Genre  \\\n",
       "0                Rapala Trophies      PSP           2006.0        Sports   \n",
       "1        New Super Mario Bros. U     WiiU           2012.0      Platform   \n",
       "2                         Robots      PS2           2005.0        Action   \n",
       "5               My Ballet Studio      Wii           2009.0    Simulation   \n",
       "6                     EVE Online       PC           2003.0  Role-Playing   \n",
       "...                          ...      ...              ...           ...   \n",
       "11696     Secret Files: Tunguska      Wii           2008.0     Adventure   \n",
       "11698    Call of Duty: Black Ops     X360           2010.0       Shooter   \n",
       "11699               Resistance 3      PS3           2011.0       Shooter   \n",
       "11700  Ready 2 Rumble Revolution      Wii           2009.0        Sports   \n",
       "11702                    NHL 2K9      PS3           2008.0        Sports   \n",
       "\n",
       "                         Publisher  NA_Sales  EU_Sales  JP_Sales  Other_Sales  \\\n",
       "0                       Activision      0.04      0.00      0.00         0.00   \n",
       "1                         Nintendo      2.30      1.34      1.27         0.32   \n",
       "2                    Vivendi Games      0.18      0.14      0.00         0.05   \n",
       "5                        505 Games      0.02      0.00      0.00         0.00   \n",
       "6                              CCP      0.00      0.19      0.00         0.01   \n",
       "...                            ...       ...       ...       ...          ...   \n",
       "11696                   Koch Media      0.04      0.01      0.00         0.00   \n",
       "11698                   Activision      9.70      3.68      0.11         1.13   \n",
       "11699  Sony Computer Entertainment      0.64      0.57      0.05         0.22   \n",
       "11700                        Atari      0.15      0.00      0.00         0.01   \n",
       "11702         Take-Two Interactive      0.11      0.01      0.00         0.01   \n",
       "\n",
       "      Rating  \n",
       "0          E  \n",
       "1          E  \n",
       "2          E  \n",
       "5          E  \n",
       "6          T  \n",
       "...      ...  \n",
       "11696      T  \n",
       "11698      M  \n",
       "11699      M  \n",
       "11700      T  \n",
       "11702   E10+  \n",
       "\n",
       "[6822 rows x 10 columns]"
      ]
     },
     "execution_count": 7,
     "metadata": {},
     "output_type": "execute_result"
    }
   ],
   "source": [
    "nuevo = cambios.dropna()\n",
    "nuevo"
   ]
  },
  {
   "cell_type": "markdown",
   "metadata": {},
   "source": [
    "Despues con el siguiente comando se eliminaran toda los registros repetidos de la columna Name que contiene los nombres de los videojuegos."
   ]
  },
  {
   "cell_type": "markdown",
   "metadata": {},
   "source": [
    "e)\tCrear un nuevo archivo con la base de datos editada."
   ]
  },
  {
   "cell_type": "code",
   "execution_count": 8,
   "metadata": {},
   "outputs": [],
   "source": [
    "nuevo_2= nuevo.drop_duplicates(['Name'])"
   ]
  },
  {
   "cell_type": "markdown",
   "metadata": {},
   "source": [
    "A partie de ahora se gurdara esta nueva base de datos con otro archivo."
   ]
  },
  {
   "cell_type": "code",
   "execution_count": 9,
   "metadata": {},
   "outputs": [],
   "source": [
    "nuevo_2.to_csv('Nueva_BD.csv', index=False)\n",
    "corregida = pd.read_csv('Nueva_BD.csv')"
   ]
  },
  {
   "cell_type": "code",
   "execution_count": 10,
   "metadata": {},
   "outputs": [
    {
     "data": {
      "text/html": [
       "<div>\n",
       "<style scoped>\n",
       "    .dataframe tbody tr th:only-of-type {\n",
       "        vertical-align: middle;\n",
       "    }\n",
       "\n",
       "    .dataframe tbody tr th {\n",
       "        vertical-align: top;\n",
       "    }\n",
       "\n",
       "    .dataframe thead th {\n",
       "        text-align: right;\n",
       "    }\n",
       "</style>\n",
       "<table border=\"1\" class=\"dataframe\">\n",
       "  <thead>\n",
       "    <tr style=\"text-align: right;\">\n",
       "      <th></th>\n",
       "      <th>Name</th>\n",
       "      <th>Platform</th>\n",
       "      <th>Year_of_Release</th>\n",
       "      <th>Genre</th>\n",
       "      <th>Publisher</th>\n",
       "      <th>NA_Sales</th>\n",
       "      <th>EU_Sales</th>\n",
       "      <th>JP_Sales</th>\n",
       "      <th>Other_Sales</th>\n",
       "      <th>Rating</th>\n",
       "    </tr>\n",
       "  </thead>\n",
       "  <tbody>\n",
       "    <tr>\n",
       "      <td>0</td>\n",
       "      <td>Rapala Trophies</td>\n",
       "      <td>PSP</td>\n",
       "      <td>2006.0</td>\n",
       "      <td>Sports</td>\n",
       "      <td>Activision</td>\n",
       "      <td>0.04</td>\n",
       "      <td>0.00</td>\n",
       "      <td>0.00</td>\n",
       "      <td>0.00</td>\n",
       "      <td>E</td>\n",
       "    </tr>\n",
       "    <tr>\n",
       "      <td>1</td>\n",
       "      <td>New Super Mario Bros. U</td>\n",
       "      <td>WiiU</td>\n",
       "      <td>2012.0</td>\n",
       "      <td>Platform</td>\n",
       "      <td>Nintendo</td>\n",
       "      <td>2.30</td>\n",
       "      <td>1.34</td>\n",
       "      <td>1.27</td>\n",
       "      <td>0.32</td>\n",
       "      <td>E</td>\n",
       "    </tr>\n",
       "    <tr>\n",
       "      <td>2</td>\n",
       "      <td>Robots</td>\n",
       "      <td>PS2</td>\n",
       "      <td>2005.0</td>\n",
       "      <td>Action</td>\n",
       "      <td>Vivendi Games</td>\n",
       "      <td>0.18</td>\n",
       "      <td>0.14</td>\n",
       "      <td>0.00</td>\n",
       "      <td>0.05</td>\n",
       "      <td>E</td>\n",
       "    </tr>\n",
       "    <tr>\n",
       "      <td>3</td>\n",
       "      <td>My Ballet Studio</td>\n",
       "      <td>Wii</td>\n",
       "      <td>2009.0</td>\n",
       "      <td>Simulation</td>\n",
       "      <td>505 Games</td>\n",
       "      <td>0.02</td>\n",
       "      <td>0.00</td>\n",
       "      <td>0.00</td>\n",
       "      <td>0.00</td>\n",
       "      <td>E</td>\n",
       "    </tr>\n",
       "    <tr>\n",
       "      <td>4</td>\n",
       "      <td>EVE Online</td>\n",
       "      <td>PC</td>\n",
       "      <td>2003.0</td>\n",
       "      <td>Role-Playing</td>\n",
       "      <td>CCP</td>\n",
       "      <td>0.00</td>\n",
       "      <td>0.19</td>\n",
       "      <td>0.00</td>\n",
       "      <td>0.01</td>\n",
       "      <td>T</td>\n",
       "    </tr>\n",
       "    <tr>\n",
       "      <td>5</td>\n",
       "      <td>S.T.A.L.K.E.R.: Shadow of Chernobyl</td>\n",
       "      <td>PC</td>\n",
       "      <td>2007.0</td>\n",
       "      <td>Shooter</td>\n",
       "      <td>THQ</td>\n",
       "      <td>0.01</td>\n",
       "      <td>0.04</td>\n",
       "      <td>0.00</td>\n",
       "      <td>0.01</td>\n",
       "      <td>M</td>\n",
       "    </tr>\n",
       "    <tr>\n",
       "      <td>6</td>\n",
       "      <td>Madden NFL 2003</td>\n",
       "      <td>XB</td>\n",
       "      <td>2002.0</td>\n",
       "      <td>Sports</td>\n",
       "      <td>Electronic Arts</td>\n",
       "      <td>0.67</td>\n",
       "      <td>0.02</td>\n",
       "      <td>0.00</td>\n",
       "      <td>0.03</td>\n",
       "      <td>E</td>\n",
       "    </tr>\n",
       "    <tr>\n",
       "      <td>7</td>\n",
       "      <td>Assassin's Creed Syndicate</td>\n",
       "      <td>XOne</td>\n",
       "      <td>2015.0</td>\n",
       "      <td>Action</td>\n",
       "      <td>Ubisoft</td>\n",
       "      <td>0.62</td>\n",
       "      <td>0.56</td>\n",
       "      <td>0.00</td>\n",
       "      <td>0.11</td>\n",
       "      <td>M</td>\n",
       "    </tr>\n",
       "    <tr>\n",
       "      <td>8</td>\n",
       "      <td>Devil's Third</td>\n",
       "      <td>WiiU</td>\n",
       "      <td>2015.0</td>\n",
       "      <td>Action</td>\n",
       "      <td>Nintendo</td>\n",
       "      <td>0.04</td>\n",
       "      <td>0.02</td>\n",
       "      <td>0.00</td>\n",
       "      <td>0.01</td>\n",
       "      <td>M</td>\n",
       "    </tr>\n",
       "    <tr>\n",
       "      <td>9</td>\n",
       "      <td>Space Chimps</td>\n",
       "      <td>PS2</td>\n",
       "      <td>2008.0</td>\n",
       "      <td>Platform</td>\n",
       "      <td>Brash Entertainment</td>\n",
       "      <td>0.06</td>\n",
       "      <td>0.05</td>\n",
       "      <td>0.00</td>\n",
       "      <td>0.02</td>\n",
       "      <td>E10+</td>\n",
       "    </tr>\n",
       "  </tbody>\n",
       "</table>\n",
       "</div>"
      ],
      "text/plain": [
       "                                  Name Platform  Year_of_Release  \\\n",
       "0                      Rapala Trophies      PSP           2006.0   \n",
       "1              New Super Mario Bros. U     WiiU           2012.0   \n",
       "2                               Robots      PS2           2005.0   \n",
       "3                     My Ballet Studio      Wii           2009.0   \n",
       "4                           EVE Online       PC           2003.0   \n",
       "5  S.T.A.L.K.E.R.: Shadow of Chernobyl       PC           2007.0   \n",
       "6                      Madden NFL 2003       XB           2002.0   \n",
       "7           Assassin's Creed Syndicate     XOne           2015.0   \n",
       "8                        Devil's Third     WiiU           2015.0   \n",
       "9                         Space Chimps      PS2           2008.0   \n",
       "\n",
       "          Genre            Publisher  NA_Sales  EU_Sales  JP_Sales  \\\n",
       "0        Sports           Activision      0.04      0.00      0.00   \n",
       "1      Platform             Nintendo      2.30      1.34      1.27   \n",
       "2        Action        Vivendi Games      0.18      0.14      0.00   \n",
       "3    Simulation            505 Games      0.02      0.00      0.00   \n",
       "4  Role-Playing                  CCP      0.00      0.19      0.00   \n",
       "5       Shooter                  THQ      0.01      0.04      0.00   \n",
       "6        Sports      Electronic Arts      0.67      0.02      0.00   \n",
       "7        Action              Ubisoft      0.62      0.56      0.00   \n",
       "8        Action             Nintendo      0.04      0.02      0.00   \n",
       "9      Platform  Brash Entertainment      0.06      0.05      0.00   \n",
       "\n",
       "   Other_Sales Rating  \n",
       "0         0.00      E  \n",
       "1         0.32      E  \n",
       "2         0.05      E  \n",
       "3         0.00      E  \n",
       "4         0.01      T  \n",
       "5         0.01      M  \n",
       "6         0.03      E  \n",
       "7         0.11      M  \n",
       "8         0.01      M  \n",
       "9         0.02   E10+  "
      ]
     },
     "execution_count": 10,
     "metadata": {},
     "output_type": "execute_result"
    }
   ],
   "source": [
    "corregida.head(10)"
   ]
  },
  {
   "cell_type": "markdown",
   "metadata": {},
   "source": [
    "Por ultimo cambiamos el tipo de dato del año de lanzamiento para ajustarlo como dato entero."
   ]
  },
  {
   "cell_type": "code",
   "execution_count": 11,
   "metadata": {},
   "outputs": [
    {
     "data": {
      "text/plain": [
       "0       2006\n",
       "1       2012\n",
       "2       2005\n",
       "3       2009\n",
       "4       2003\n",
       "        ... \n",
       "4671    2002\n",
       "4672    2008\n",
       "4673    2003\n",
       "4674    2011\n",
       "4675    2009\n",
       "Name: Year_of_Release, Length: 4676, dtype: int32"
      ]
     },
     "execution_count": 11,
     "metadata": {},
     "output_type": "execute_result"
    }
   ],
   "source": [
    "corregida['Year_of_Release'].astype(\"int\")"
   ]
  },
  {
   "cell_type": "markdown",
   "metadata": {},
   "source": [
    "### Estadistica en los Datos"
   ]
  },
  {
   "cell_type": "markdown",
   "metadata": {},
   "source": [
    "Para este apartado se respondera a nuestras preguntas de interes, se hara mediante el uso de la estadistica.  "
   ]
  },
  {
   "cell_type": "markdown",
   "metadata": {},
   "source": [
    "Por lo que se respondera a la siguiente pregunta: ¿Cuál es la percepción de aceptación de un videojuego de alguna empresa (simulando una venta en una región)?. Para responder a la pregunta se calculara un promedio de todas las ventas en las regiones de Norte America(NA), Japon(JP), Estados Unidos(EU)"
   ]
  },
  {
   "cell_type": "code",
   "execution_count": 12,
   "metadata": {},
   "outputs": [
    {
     "data": {
      "text/plain": [
       "0.32714285714285174"
      ]
     },
     "execution_count": 12,
     "metadata": {},
     "output_type": "execute_result"
    }
   ],
   "source": [
    "corregida['NA_Sales'].mean()"
   ]
  },
  {
   "cell_type": "code",
   "execution_count": 13,
   "metadata": {},
   "outputs": [
    {
     "data": {
      "text/plain": [
       "0.1838751069289961"
      ]
     },
     "execution_count": 13,
     "metadata": {},
     "output_type": "execute_result"
    }
   ],
   "source": [
    "corregida['EU_Sales'].mean()"
   ]
  },
  {
   "cell_type": "code",
   "execution_count": 14,
   "metadata": {},
   "outputs": [
    {
     "data": {
      "text/plain": [
       "0.06282292557741659"
      ]
     },
     "execution_count": 14,
     "metadata": {},
     "output_type": "execute_result"
    }
   ],
   "source": [
    "corregida['JP_Sales'].mean()"
   ]
  },
  {
   "cell_type": "markdown",
   "metadata": {},
   "source": [
    "Una vez calculado el promedio podemos determinar que para sacar un nivel de aceptacion bueno de ventas en las tres regiones mencionadas tendria que estar en un rango igual o mayor al promedio calculado. Para el caso de Norte America tendria que considerarse bien de venta una cantidad igual o mayor a 0.327142...; para Estados Unidos igual o mayor a 0.183875...; y para Japon igual o mayor a: 0.062822...."
   ]
  },
  {
   "cell_type": "markdown",
   "metadata": {},
   "source": [
    "Ahorra respondiendo a la pregunta: ¿Con los datos de la base de datos de videojuegos como se pueden clasificar aplicando algún método de minería de datos? se usara la funcion describe, en el que viene la cantidad de ventas minima y maxima y unos rangos de venta que calcula la funcion por columna, en el que determinamos que en el 25% de venta de cada region su venta calculada la determinariamos como 'Mala', para el 50% la determinariamos como 'Regular' y para 75% de venta como buena, ya revasando este porcentaje como 'Muy buena'."
   ]
  },
  {
   "cell_type": "code",
   "execution_count": 15,
   "metadata": {},
   "outputs": [
    {
     "data": {
      "text/plain": [
       "count    4676.000000\n",
       "mean        0.327143\n",
       "std         0.985394\n",
       "min         0.000000\n",
       "25%         0.040000\n",
       "50%         0.110000\n",
       "75%         0.280000\n",
       "max        41.360000\n",
       "Name: NA_Sales, dtype: float64"
      ]
     },
     "execution_count": 15,
     "metadata": {},
     "output_type": "execute_result"
    }
   ],
   "source": [
    "corregida['NA_Sales'].describe()"
   ]
  },
  {
   "cell_type": "code",
   "execution_count": 16,
   "metadata": {},
   "outputs": [
    {
     "data": {
      "text/plain": [
       "count    4676.000000\n",
       "mean        0.183875\n",
       "std         0.684735\n",
       "min         0.000000\n",
       "25%         0.010000\n",
       "50%         0.030000\n",
       "75%         0.140000\n",
       "max        28.960000\n",
       "Name: EU_Sales, dtype: float64"
      ]
     },
     "execution_count": 16,
     "metadata": {},
     "output_type": "execute_result"
    }
   ],
   "source": [
    "corregida['EU_Sales'].describe()"
   ]
  },
  {
   "cell_type": "code",
   "execution_count": 17,
   "metadata": {},
   "outputs": [
    {
     "data": {
      "text/plain": [
       "count    4676.000000\n",
       "mean        0.062823\n",
       "std         0.294704\n",
       "min         0.000000\n",
       "25%         0.000000\n",
       "50%         0.000000\n",
       "75%         0.010000\n",
       "max         6.500000\n",
       "Name: JP_Sales, dtype: float64"
      ]
     },
     "execution_count": 17,
     "metadata": {},
     "output_type": "execute_result"
    }
   ],
   "source": [
    "corregida['JP_Sales'].describe()"
   ]
  },
  {
   "cell_type": "markdown",
   "metadata": {},
   "source": [
    "### Graficas "
   ]
  },
  {
   "cell_type": "markdown",
   "metadata": {},
   "source": [
    "Daremos uso de las graficas en el que se mostrara la cantidad de frecuencias de cada cantidad de ventas de videojuegos hechas en Norte America para poder determinar cuantos videojuegos tienen mayor cantidad de venta acorde al estandar mencionado"
   ]
  },
  {
   "cell_type": "code",
   "execution_count": 49,
   "metadata": {},
   "outputs": [
    {
     "data": {
      "text/plain": [
       "<matplotlib.axes._subplots.AxesSubplot at 0x1ed5b8ea1c8>"
      ]
     },
     "execution_count": 49,
     "metadata": {},
     "output_type": "execute_result"
    },
    {
     "data": {
      "image/png": "[encoded data removed]",
      "text/plain": [
       "<Figure size 432x288 with 1 Axes>"
      ]
     },
     "metadata": {
      "needs_background": "light"
     },
     "output_type": "display_data"
    }
   ],
   "source": [
    "%matplotlib inline\n",
    "corregida['NA_Sales'].value_counts().plot.bar()"
   ]
  },
  {
   "cell_type": "markdown",
   "metadata": {},
   "source": [
    "Podemos apreciar a grandes rasgos de la grafica que hay muy pocos videojuegos que tienen que tienen una cantidad de grandes. Pero para apreciar mejor la grafica, se le reducira la cantidad de datos. "
   ]
  },
  {
   "cell_type": "code",
   "execution_count": 52,
   "metadata": {},
   "outputs": [
    {
     "data": {
      "text/plain": [
       "<matplotlib.axes._subplots.AxesSubplot at 0x1ed5d26f848>"
      ]
     },
     "execution_count": 52,
     "metadata": {},
     "output_type": "execute_result"
    },
    {
     "data": {
      "image/png": "[encoded data removed]",
      "text/plain": [
       "<Figure size 432x288 with 1 Axes>"
      ]
     },
     "metadata": {
      "needs_background": "light"
     },
     "output_type": "display_data"
    }
   ],
   "source": [
    "corregida['NA_Sales'].value_counts().head(40).plot.bar()"
   ]
  },
  {
   "cell_type": "markdown",
   "metadata": {},
   "source": [
    "Al igual haremos esto con las ventas de videojuegos en Estados Unidos."
   ]
  },
  {
   "cell_type": "code",
   "execution_count": 53,
   "metadata": {},
   "outputs": [
    {
     "data": {
      "text/plain": [
       "<matplotlib.axes._subplots.AxesSubplot at 0x1ed5d2a0588>"
      ]
     },
     "execution_count": 53,
     "metadata": {},
     "output_type": "execute_result"
    },
    {
     "data": {
      "image/png": "[encoded data removed]",
      "text/plain": [
       "<Figure size 432x288 with 1 Axes>"
      ]
     },
     "metadata": {
      "needs_background": "light"
     },
     "output_type": "display_data"
    }
   ],
   "source": [
    "corregida['EU_Sales'].value_counts().plot.bar()"
   ]
  },
  {
   "cell_type": "markdown",
   "metadata": {},
   "source": [
    "Y de igual manera se ve que hay muy pocos videojuegos que tienen una cantidad alta de venta de videojuegos en esta region, nadamas que para este caso hay mas cantidades de videojuegos que no tienen casi nada de venta, llegando casi a 1000 casos de videojuegos, y se mostrara otra grafica pero ya con pocos datos para poderla aprecir mejor."
   ]
  },
  {
   "cell_type": "code",
   "execution_count": 55,
   "metadata": {},
   "outputs": [
    {
     "data": {
      "text/plain": [
       "<matplotlib.axes._subplots.AxesSubplot at 0x1ed5d8d9288>"
      ]
     },
     "execution_count": 55,
     "metadata": {},
     "output_type": "execute_result"
    },
    {
     "data": {
      "image/png": "[encoded data removed]",
      "text/plain": [
       "<Figure size 432x288 with 1 Axes>"
      ]
     },
     "metadata": {
      "needs_background": "light"
     },
     "output_type": "display_data"
    }
   ],
   "source": [
    "corregida['EU_Sales'].value_counts().head(40).plot.bar()"
   ]
  },
  {
   "cell_type": "markdown",
   "metadata": {},
   "source": [
    "Y tambien veremos la cantidad de venta de videojuegos para Japon"
   ]
  },
  {
   "cell_type": "code",
   "execution_count": 56,
   "metadata": {},
   "outputs": [
    {
     "data": {
      "text/plain": [
       "<matplotlib.axes._subplots.AxesSubplot at 0x1ed5d9c9908>"
      ]
     },
     "execution_count": 56,
     "metadata": {},
     "output_type": "execute_result"
    },
    {
     "data": {
      "image/png": "[encoded data removed]",
      "text/plain": [
       "<Figure size 432x288 with 1 Axes>"
      ]
     },
     "metadata": {
      "needs_background": "light"
     },
     "output_type": "display_data"
    }
   ],
   "source": [
    "corregida['JP_Sales'].value_counts().plot.bar()"
   ]
  },
  {
   "cell_type": "markdown",
   "metadata": {},
   "source": [
    "Y al igual que en las otras graficas se ve que hay muy pocos videojuegos con grandes ventas y hay demaciados productos con nada de ventas en la regios de Japon con o ventas."
   ]
  },
  {
   "cell_type": "code",
   "execution_count": 58,
   "metadata": {},
   "outputs": [
    {
     "data": {
      "text/plain": [
       "<matplotlib.axes._subplots.AxesSubplot at 0x1ed5de189c8>"
      ]
     },
     "execution_count": 58,
     "metadata": {},
     "output_type": "execute_result"
    },
    {
     "data": {
      "image/png": "[encoded data removed]",
      "text/plain": [
       "<Figure size 432x288 with 1 Axes>"
      ]
     },
     "metadata": {
      "needs_background": "light"
     },
     "output_type": "display_data"
    }
   ],
   "source": [
    "corregida['JP_Sales'].value_counts().head(40).plot.bar()"
   ]
  },
  {
   "cell_type": "markdown",
   "metadata": {},
   "source": [
    "Y tambien se mostrara una grafica de cantidad de ventas de videojuegos para ver cuales son los que estan mas lanzados al mercado independientemente de las ventas obtenidas."
   ]
  },
  {
   "cell_type": "code",
   "execution_count": 59,
   "metadata": {},
   "outputs": [
    {
     "data": {
      "text/plain": [
       "<matplotlib.axes._subplots.AxesSubplot at 0x1ed5df40d08>"
      ]
     },
     "execution_count": 59,
     "metadata": {},
     "output_type": "execute_result"
    },
    {
     "data": {
      "image/png": "[encoded data removed]",
      "text/plain": [
       "<Figure size 432x288 with 1 Axes>"
      ]
     },
     "metadata": {
      "needs_background": "light"
     },
     "output_type": "display_data"
    }
   ],
   "source": [
    "corregida['Genre'].value_counts().plot.bar()"
   ]
  },
  {
   "cell_type": "markdown",
   "metadata": {},
   "source": [
    "Por lo que se visualiza que el genero de videojuegos que esta mas lanzado al mercado es el de Accion, y podemos concluir que es de las mas solicitadas por el publico."
   ]
  },
  {
   "cell_type": "markdown",
   "metadata": {},
   "source": [
    "### Conclusion general"
   ]
  },
  {
   "cell_type": "markdown",
   "metadata": {},
   "source": [
    "Se concluye que los numeros de ventas mas altos por las tres regiones solicitadas se encuentra en un rango de: en Norte America de entre 41 a 42; en Estados Unidos de 28 a 29; y en Japon entre 6 a 7. Ademas de que en Japon hay muy pocas cantidades de venta de videojuegos dando a entender que de las tres regiones en Japon no es de tanto interes los videojuegos, segun la base de datos analizada."
   ]
  },
  {
   "cell_type": "markdown",
   "metadata": {},
   "source": [
    "Y que el genero de videojuegos mas solicitados es el de accion, y esto pudiese ser por el tipo de impacto que tienen este genero debido al entretenimiento que tratan este mismo genero."
   ]
  }
 ],
 "metadata": {
  "kernelspec": {
   "display_name": "Python 3",
   "language": "python",
   "name": "python3"
  },
  "language_info": {
   "codemirror_mode": {
    "name": "ipython",
    "version": 3
   },
   "file_extension": ".py",
   "mimetype": "text/x-python",
   "name": "python",
   "nbconvert_exporter": "python",
   "pygments_lexer": "ipython3",
   "version": "3.7.4"
  }
 },
 "nbformat": 4,
 "nbformat_minor": 2
}
