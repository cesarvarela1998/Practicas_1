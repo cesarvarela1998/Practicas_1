{
 "cells": [
  {
   "cell_type": "markdown",
   "metadata": {},
   "source": [
    "# Practica 2"
   ]
  },
  {
   "cell_type": "markdown",
   "metadata": {},
   "source": [
    "### Cesar Gerardo Varela Cavazos"
   ]
  },
  {
   "cell_type": "markdown",
   "metadata": {},
   "source": [
    "Para esta practica utilzaremos la base de datos de la venta de vinos. Por lo que se empezara con la lectura de la tabla para extraer su informacion y mostrarla mediante calculos y graficas. \n",
    "\n",
    "Iniciaremos con la importacion de las librerias:"
   ]
  },
  {
   "cell_type": "code",
   "execution_count": 6,
   "metadata": {},
   "outputs": [],
   "source": [
    "#Importacion de las librerias\n",
    "import numpy as np\n",
    "import pandas_profiling\n",
    "import pandas as pd\n",
    "import matplotlib as plt"
   ]
  },
  {
   "cell_type": "markdown",
   "metadata": {},
   "source": [
    "Despues se va a leer el archivo que se va a utilizar para poder visualizar la informacion de la base de datos, pero contienen mas de 100,000 registros solo se mostraran los primeros 25 para entender como esta compuesta la base de datos."
   ]
  },
  {
   "cell_type": "code",
   "execution_count": 7,
   "metadata": {},
   "outputs": [
    {
     "data": {
      "text/html": [
       "<div>\n",
       "<style scoped>\n",
       "    .dataframe tbody tr th:only-of-type {\n",
       "        vertical-align: middle;\n",
       "    }\n",
       "\n",
       "    .dataframe tbody tr th {\n",
       "        vertical-align: top;\n",
       "    }\n",
       "\n",
       "    .dataframe thead th {\n",
       "        text-align: right;\n",
       "    }\n",
       "</style>\n",
       "<table border=\"1\" class=\"dataframe\">\n",
       "  <thead>\n",
       "    <tr style=\"text-align: right;\">\n",
       "      <th></th>\n",
       "      <th>Unnamed: 0</th>\n",
       "      <th>country</th>\n",
       "      <th>description</th>\n",
       "      <th>designation</th>\n",
       "      <th>points</th>\n",
       "      <th>price</th>\n",
       "      <th>province</th>\n",
       "      <th>region_1</th>\n",
       "      <th>region_2</th>\n",
       "      <th>variety</th>\n",
       "      <th>winery</th>\n",
       "    </tr>\n",
       "  </thead>\n",
       "  <tbody>\n",
       "    <tr>\n",
       "      <td>0</td>\n",
       "      <td>0</td>\n",
       "      <td>US</td>\n",
       "      <td>This tremendous 100% varietal wine hails from ...</td>\n",
       "      <td>Martha's Vineyard</td>\n",
       "      <td>96</td>\n",
       "      <td>235.0</td>\n",
       "      <td>California</td>\n",
       "      <td>Napa Valley</td>\n",
       "      <td>Napa</td>\n",
       "      <td>Cabernet Sauvignon</td>\n",
       "      <td>Heitz</td>\n",
       "    </tr>\n",
       "    <tr>\n",
       "      <td>1</td>\n",
       "      <td>1</td>\n",
       "      <td>Spain</td>\n",
       "      <td>Ripe aromas of fig, blackberry and cassis are ...</td>\n",
       "      <td>Carodorum Selección Especial Reserva</td>\n",
       "      <td>96</td>\n",
       "      <td>110.0</td>\n",
       "      <td>Northern Spain</td>\n",
       "      <td>Toro</td>\n",
       "      <td>NaN</td>\n",
       "      <td>Tinta de Toro</td>\n",
       "      <td>Bodega Carmen Rodríguez</td>\n",
       "    </tr>\n",
       "    <tr>\n",
       "      <td>2</td>\n",
       "      <td>2</td>\n",
       "      <td>US</td>\n",
       "      <td>Mac Watson honors the memory of a wine once ma...</td>\n",
       "      <td>Special Selected Late Harvest</td>\n",
       "      <td>96</td>\n",
       "      <td>90.0</td>\n",
       "      <td>California</td>\n",
       "      <td>Knights Valley</td>\n",
       "      <td>Sonoma</td>\n",
       "      <td>Sauvignon Blanc</td>\n",
       "      <td>Macauley</td>\n",
       "    </tr>\n",
       "    <tr>\n",
       "      <td>3</td>\n",
       "      <td>3</td>\n",
       "      <td>US</td>\n",
       "      <td>This spent 20 months in 30% new French oak, an...</td>\n",
       "      <td>Reserve</td>\n",
       "      <td>96</td>\n",
       "      <td>65.0</td>\n",
       "      <td>Oregon</td>\n",
       "      <td>Willamette Valley</td>\n",
       "      <td>Willamette Valley</td>\n",
       "      <td>Pinot Noir</td>\n",
       "      <td>Ponzi</td>\n",
       "    </tr>\n",
       "    <tr>\n",
       "      <td>4</td>\n",
       "      <td>4</td>\n",
       "      <td>France</td>\n",
       "      <td>This is the top wine from La Bégude, named aft...</td>\n",
       "      <td>La Brûlade</td>\n",
       "      <td>95</td>\n",
       "      <td>66.0</td>\n",
       "      <td>Provence</td>\n",
       "      <td>Bandol</td>\n",
       "      <td>NaN</td>\n",
       "      <td>Provence red blend</td>\n",
       "      <td>Domaine de la Bégude</td>\n",
       "    </tr>\n",
       "    <tr>\n",
       "      <td>5</td>\n",
       "      <td>5</td>\n",
       "      <td>Spain</td>\n",
       "      <td>Deep, dense and pure from the opening bell, th...</td>\n",
       "      <td>Numanthia</td>\n",
       "      <td>95</td>\n",
       "      <td>73.0</td>\n",
       "      <td>Northern Spain</td>\n",
       "      <td>Toro</td>\n",
       "      <td>NaN</td>\n",
       "      <td>Tinta de Toro</td>\n",
       "      <td>Numanthia</td>\n",
       "    </tr>\n",
       "    <tr>\n",
       "      <td>6</td>\n",
       "      <td>6</td>\n",
       "      <td>Spain</td>\n",
       "      <td>Slightly gritty black-fruit aromas include a s...</td>\n",
       "      <td>San Román</td>\n",
       "      <td>95</td>\n",
       "      <td>65.0</td>\n",
       "      <td>Northern Spain</td>\n",
       "      <td>Toro</td>\n",
       "      <td>NaN</td>\n",
       "      <td>Tinta de Toro</td>\n",
       "      <td>Maurodos</td>\n",
       "    </tr>\n",
       "    <tr>\n",
       "      <td>7</td>\n",
       "      <td>7</td>\n",
       "      <td>Spain</td>\n",
       "      <td>Lush cedary black-fruit aromas are luxe and of...</td>\n",
       "      <td>Carodorum Único Crianza</td>\n",
       "      <td>95</td>\n",
       "      <td>110.0</td>\n",
       "      <td>Northern Spain</td>\n",
       "      <td>Toro</td>\n",
       "      <td>NaN</td>\n",
       "      <td>Tinta de Toro</td>\n",
       "      <td>Bodega Carmen Rodríguez</td>\n",
       "    </tr>\n",
       "    <tr>\n",
       "      <td>8</td>\n",
       "      <td>8</td>\n",
       "      <td>US</td>\n",
       "      <td>This re-named vineyard was formerly bottled as...</td>\n",
       "      <td>Silice</td>\n",
       "      <td>95</td>\n",
       "      <td>65.0</td>\n",
       "      <td>Oregon</td>\n",
       "      <td>Chehalem Mountains</td>\n",
       "      <td>Willamette Valley</td>\n",
       "      <td>Pinot Noir</td>\n",
       "      <td>Bergström</td>\n",
       "    </tr>\n",
       "    <tr>\n",
       "      <td>9</td>\n",
       "      <td>9</td>\n",
       "      <td>US</td>\n",
       "      <td>The producer sources from two blocks of the vi...</td>\n",
       "      <td>Gap's Crown Vineyard</td>\n",
       "      <td>95</td>\n",
       "      <td>60.0</td>\n",
       "      <td>California</td>\n",
       "      <td>Sonoma Coast</td>\n",
       "      <td>Sonoma</td>\n",
       "      <td>Pinot Noir</td>\n",
       "      <td>Blue Farm</td>\n",
       "    </tr>\n",
       "    <tr>\n",
       "      <td>10</td>\n",
       "      <td>10</td>\n",
       "      <td>Italy</td>\n",
       "      <td>Elegance, complexity and structure come togeth...</td>\n",
       "      <td>Ronco della Chiesa</td>\n",
       "      <td>95</td>\n",
       "      <td>80.0</td>\n",
       "      <td>Northeastern Italy</td>\n",
       "      <td>Collio</td>\n",
       "      <td>NaN</td>\n",
       "      <td>Friulano</td>\n",
       "      <td>Borgo del Tiglio</td>\n",
       "    </tr>\n",
       "    <tr>\n",
       "      <td>11</td>\n",
       "      <td>11</td>\n",
       "      <td>US</td>\n",
       "      <td>From 18-year-old vines, this supple well-balan...</td>\n",
       "      <td>Estate Vineyard Wadensvil Block</td>\n",
       "      <td>95</td>\n",
       "      <td>48.0</td>\n",
       "      <td>Oregon</td>\n",
       "      <td>Ribbon Ridge</td>\n",
       "      <td>Willamette Valley</td>\n",
       "      <td>Pinot Noir</td>\n",
       "      <td>Patricia Green Cellars</td>\n",
       "    </tr>\n",
       "    <tr>\n",
       "      <td>12</td>\n",
       "      <td>12</td>\n",
       "      <td>US</td>\n",
       "      <td>A standout even in this terrific lineup of 201...</td>\n",
       "      <td>Weber Vineyard</td>\n",
       "      <td>95</td>\n",
       "      <td>48.0</td>\n",
       "      <td>Oregon</td>\n",
       "      <td>Dundee Hills</td>\n",
       "      <td>Willamette Valley</td>\n",
       "      <td>Pinot Noir</td>\n",
       "      <td>Patricia Green Cellars</td>\n",
       "    </tr>\n",
       "    <tr>\n",
       "      <td>13</td>\n",
       "      <td>13</td>\n",
       "      <td>France</td>\n",
       "      <td>This wine is in peak condition. The tannins an...</td>\n",
       "      <td>Château Montus Prestige</td>\n",
       "      <td>95</td>\n",
       "      <td>90.0</td>\n",
       "      <td>Southwest France</td>\n",
       "      <td>Madiran</td>\n",
       "      <td>NaN</td>\n",
       "      <td>Tannat</td>\n",
       "      <td>Vignobles Brumont</td>\n",
       "    </tr>\n",
       "    <tr>\n",
       "      <td>14</td>\n",
       "      <td>14</td>\n",
       "      <td>US</td>\n",
       "      <td>With its sophisticated mix of mineral, acid an...</td>\n",
       "      <td>Grace Vineyard</td>\n",
       "      <td>95</td>\n",
       "      <td>185.0</td>\n",
       "      <td>Oregon</td>\n",
       "      <td>Dundee Hills</td>\n",
       "      <td>Willamette Valley</td>\n",
       "      <td>Pinot Noir</td>\n",
       "      <td>Domaine Serene</td>\n",
       "    </tr>\n",
       "    <tr>\n",
       "      <td>15</td>\n",
       "      <td>15</td>\n",
       "      <td>US</td>\n",
       "      <td>First made in 2006, this succulent luscious Ch...</td>\n",
       "      <td>Sigrid</td>\n",
       "      <td>95</td>\n",
       "      <td>90.0</td>\n",
       "      <td>Oregon</td>\n",
       "      <td>Willamette Valley</td>\n",
       "      <td>Willamette Valley</td>\n",
       "      <td>Chardonnay</td>\n",
       "      <td>Bergström</td>\n",
       "    </tr>\n",
       "    <tr>\n",
       "      <td>16</td>\n",
       "      <td>16</td>\n",
       "      <td>US</td>\n",
       "      <td>This blockbuster, powerhouse of a wine suggest...</td>\n",
       "      <td>Rainin Vineyard</td>\n",
       "      <td>95</td>\n",
       "      <td>325.0</td>\n",
       "      <td>California</td>\n",
       "      <td>Diamond Mountain District</td>\n",
       "      <td>Napa</td>\n",
       "      <td>Cabernet Sauvignon</td>\n",
       "      <td>Hall</td>\n",
       "    </tr>\n",
       "    <tr>\n",
       "      <td>17</td>\n",
       "      <td>17</td>\n",
       "      <td>Spain</td>\n",
       "      <td>Nicely oaked blackberry, licorice, vanilla and...</td>\n",
       "      <td>6 Años Reserva Premium</td>\n",
       "      <td>95</td>\n",
       "      <td>80.0</td>\n",
       "      <td>Northern Spain</td>\n",
       "      <td>Ribera del Duero</td>\n",
       "      <td>NaN</td>\n",
       "      <td>Tempranillo</td>\n",
       "      <td>Valduero</td>\n",
       "    </tr>\n",
       "    <tr>\n",
       "      <td>18</td>\n",
       "      <td>18</td>\n",
       "      <td>France</td>\n",
       "      <td>Coming from a seven-acre vineyard named after ...</td>\n",
       "      <td>Le Pigeonnier</td>\n",
       "      <td>95</td>\n",
       "      <td>290.0</td>\n",
       "      <td>Southwest France</td>\n",
       "      <td>Cahors</td>\n",
       "      <td>NaN</td>\n",
       "      <td>Malbec</td>\n",
       "      <td>Château Lagrézette</td>\n",
       "    </tr>\n",
       "    <tr>\n",
       "      <td>19</td>\n",
       "      <td>19</td>\n",
       "      <td>US</td>\n",
       "      <td>This fresh and lively medium-bodied wine is be...</td>\n",
       "      <td>Gap's Crown Vineyard</td>\n",
       "      <td>95</td>\n",
       "      <td>75.0</td>\n",
       "      <td>California</td>\n",
       "      <td>Sonoma Coast</td>\n",
       "      <td>Sonoma</td>\n",
       "      <td>Pinot Noir</td>\n",
       "      <td>Gary Farrell</td>\n",
       "    </tr>\n",
       "    <tr>\n",
       "      <td>20</td>\n",
       "      <td>20</td>\n",
       "      <td>US</td>\n",
       "      <td>Heitz has made this stellar rosé from the rare...</td>\n",
       "      <td>Grignolino</td>\n",
       "      <td>95</td>\n",
       "      <td>24.0</td>\n",
       "      <td>California</td>\n",
       "      <td>Napa Valley</td>\n",
       "      <td>Napa</td>\n",
       "      <td>Rosé</td>\n",
       "      <td>Heitz</td>\n",
       "    </tr>\n",
       "    <tr>\n",
       "      <td>21</td>\n",
       "      <td>21</td>\n",
       "      <td>Spain</td>\n",
       "      <td>Alluring, complex and powerful aromas of grill...</td>\n",
       "      <td>Prado Enea Gran Reserva</td>\n",
       "      <td>95</td>\n",
       "      <td>79.0</td>\n",
       "      <td>Northern Spain</td>\n",
       "      <td>Rioja</td>\n",
       "      <td>NaN</td>\n",
       "      <td>Tempranillo Blend</td>\n",
       "      <td>Muga</td>\n",
       "    </tr>\n",
       "    <tr>\n",
       "      <td>22</td>\n",
       "      <td>22</td>\n",
       "      <td>Spain</td>\n",
       "      <td>Tarry blackberry and cheesy oak aromas are app...</td>\n",
       "      <td>Termanthia</td>\n",
       "      <td>95</td>\n",
       "      <td>220.0</td>\n",
       "      <td>Northern Spain</td>\n",
       "      <td>Toro</td>\n",
       "      <td>NaN</td>\n",
       "      <td>Tinta de Toro</td>\n",
       "      <td>Numanthia</td>\n",
       "    </tr>\n",
       "    <tr>\n",
       "      <td>23</td>\n",
       "      <td>23</td>\n",
       "      <td>US</td>\n",
       "      <td>The apogee of this ambitious winery's white wi...</td>\n",
       "      <td>Giallo Solare</td>\n",
       "      <td>95</td>\n",
       "      <td>60.0</td>\n",
       "      <td>California</td>\n",
       "      <td>Edna Valley</td>\n",
       "      <td>Central Coast</td>\n",
       "      <td>Chardonnay</td>\n",
       "      <td>Center of Effort</td>\n",
       "    </tr>\n",
       "    <tr>\n",
       "      <td>24</td>\n",
       "      <td>24</td>\n",
       "      <td>US</td>\n",
       "      <td>San Jose-based producer Adam Comartin heads 1,...</td>\n",
       "      <td>R-Bar-R Ranch</td>\n",
       "      <td>95</td>\n",
       "      <td>45.0</td>\n",
       "      <td>California</td>\n",
       "      <td>Santa Cruz Mountains</td>\n",
       "      <td>Central Coast</td>\n",
       "      <td>Pinot Noir</td>\n",
       "      <td>Comartin</td>\n",
       "    </tr>\n",
       "  </tbody>\n",
       "</table>\n",
       "</div>"
      ],
      "text/plain": [
       "    Unnamed: 0 country                                        description  \\\n",
       "0            0      US  This tremendous 100% varietal wine hails from ...   \n",
       "1            1   Spain  Ripe aromas of fig, blackberry and cassis are ...   \n",
       "2            2      US  Mac Watson honors the memory of a wine once ma...   \n",
       "3            3      US  This spent 20 months in 30% new French oak, an...   \n",
       "4            4  France  This is the top wine from La Bégude, named aft...   \n",
       "5            5   Spain  Deep, dense and pure from the opening bell, th...   \n",
       "6            6   Spain  Slightly gritty black-fruit aromas include a s...   \n",
       "7            7   Spain  Lush cedary black-fruit aromas are luxe and of...   \n",
       "8            8      US  This re-named vineyard was formerly bottled as...   \n",
       "9            9      US  The producer sources from two blocks of the vi...   \n",
       "10          10   Italy  Elegance, complexity and structure come togeth...   \n",
       "11          11      US  From 18-year-old vines, this supple well-balan...   \n",
       "12          12      US  A standout even in this terrific lineup of 201...   \n",
       "13          13  France  This wine is in peak condition. The tannins an...   \n",
       "14          14      US  With its sophisticated mix of mineral, acid an...   \n",
       "15          15      US  First made in 2006, this succulent luscious Ch...   \n",
       "16          16      US  This blockbuster, powerhouse of a wine suggest...   \n",
       "17          17   Spain  Nicely oaked blackberry, licorice, vanilla and...   \n",
       "18          18  France  Coming from a seven-acre vineyard named after ...   \n",
       "19          19      US  This fresh and lively medium-bodied wine is be...   \n",
       "20          20      US  Heitz has made this stellar rosé from the rare...   \n",
       "21          21   Spain  Alluring, complex and powerful aromas of grill...   \n",
       "22          22   Spain  Tarry blackberry and cheesy oak aromas are app...   \n",
       "23          23      US  The apogee of this ambitious winery's white wi...   \n",
       "24          24      US  San Jose-based producer Adam Comartin heads 1,...   \n",
       "\n",
       "                             designation  points  price            province  \\\n",
       "0                      Martha's Vineyard      96  235.0          California   \n",
       "1   Carodorum Selección Especial Reserva      96  110.0      Northern Spain   \n",
       "2          Special Selected Late Harvest      96   90.0          California   \n",
       "3                                Reserve      96   65.0              Oregon   \n",
       "4                             La Brûlade      95   66.0            Provence   \n",
       "5                              Numanthia      95   73.0      Northern Spain   \n",
       "6                              San Román      95   65.0      Northern Spain   \n",
       "7                Carodorum Único Crianza      95  110.0      Northern Spain   \n",
       "8                                 Silice      95   65.0              Oregon   \n",
       "9                   Gap's Crown Vineyard      95   60.0          California   \n",
       "10                    Ronco della Chiesa      95   80.0  Northeastern Italy   \n",
       "11       Estate Vineyard Wadensvil Block      95   48.0              Oregon   \n",
       "12                        Weber Vineyard      95   48.0              Oregon   \n",
       "13               Château Montus Prestige      95   90.0    Southwest France   \n",
       "14                        Grace Vineyard      95  185.0              Oregon   \n",
       "15                                Sigrid      95   90.0              Oregon   \n",
       "16                       Rainin Vineyard      95  325.0          California   \n",
       "17                6 Años Reserva Premium      95   80.0      Northern Spain   \n",
       "18                         Le Pigeonnier      95  290.0    Southwest France   \n",
       "19                  Gap's Crown Vineyard      95   75.0          California   \n",
       "20                            Grignolino      95   24.0          California   \n",
       "21               Prado Enea Gran Reserva      95   79.0      Northern Spain   \n",
       "22                            Termanthia      95  220.0      Northern Spain   \n",
       "23                         Giallo Solare      95   60.0          California   \n",
       "24                         R-Bar-R Ranch      95   45.0          California   \n",
       "\n",
       "                     region_1           region_2             variety  \\\n",
       "0                 Napa Valley               Napa  Cabernet Sauvignon   \n",
       "1                        Toro                NaN       Tinta de Toro   \n",
       "2              Knights Valley             Sonoma     Sauvignon Blanc   \n",
       "3           Willamette Valley  Willamette Valley          Pinot Noir   \n",
       "4                      Bandol                NaN  Provence red blend   \n",
       "5                        Toro                NaN       Tinta de Toro   \n",
       "6                        Toro                NaN       Tinta de Toro   \n",
       "7                        Toro                NaN       Tinta de Toro   \n",
       "8          Chehalem Mountains  Willamette Valley          Pinot Noir   \n",
       "9                Sonoma Coast             Sonoma          Pinot Noir   \n",
       "10                     Collio                NaN            Friulano   \n",
       "11               Ribbon Ridge  Willamette Valley          Pinot Noir   \n",
       "12               Dundee Hills  Willamette Valley          Pinot Noir   \n",
       "13                    Madiran                NaN              Tannat   \n",
       "14               Dundee Hills  Willamette Valley          Pinot Noir   \n",
       "15          Willamette Valley  Willamette Valley          Chardonnay   \n",
       "16  Diamond Mountain District               Napa  Cabernet Sauvignon   \n",
       "17           Ribera del Duero                NaN         Tempranillo   \n",
       "18                     Cahors                NaN              Malbec   \n",
       "19               Sonoma Coast             Sonoma          Pinot Noir   \n",
       "20                Napa Valley               Napa                Rosé   \n",
       "21                      Rioja                NaN   Tempranillo Blend   \n",
       "22                       Toro                NaN       Tinta de Toro   \n",
       "23                Edna Valley      Central Coast          Chardonnay   \n",
       "24       Santa Cruz Mountains      Central Coast          Pinot Noir   \n",
       "\n",
       "                     winery  \n",
       "0                     Heitz  \n",
       "1   Bodega Carmen Rodríguez  \n",
       "2                  Macauley  \n",
       "3                     Ponzi  \n",
       "4      Domaine de la Bégude  \n",
       "5                 Numanthia  \n",
       "6                  Maurodos  \n",
       "7   Bodega Carmen Rodríguez  \n",
       "8                 Bergström  \n",
       "9                 Blue Farm  \n",
       "10         Borgo del Tiglio  \n",
       "11   Patricia Green Cellars  \n",
       "12   Patricia Green Cellars  \n",
       "13        Vignobles Brumont  \n",
       "14           Domaine Serene  \n",
       "15                Bergström  \n",
       "16                     Hall  \n",
       "17                 Valduero  \n",
       "18       Château Lagrézette  \n",
       "19             Gary Farrell  \n",
       "20                    Heitz  \n",
       "21                     Muga  \n",
       "22                Numanthia  \n",
       "23         Center of Effort  \n",
       "24                 Comartin  "
      ]
     },
     "execution_count": 7,
     "metadata": {},
     "output_type": "execute_result"
    }
   ],
   "source": [
    "df= pd.read_csv(\"Practica 2.csv\")\n",
    "df.head(25)"
   ]
  },
  {
   "cell_type": "markdown",
   "metadata": {},
   "source": [
    "Como podemos ver la base de datos esta compuesta de 11 columnas sobre la informacion de la venta de vinos. Para ls practica coemnzaremos a entender todas las columnas que tiene de manera mas lejible, por lo que se mostrara todas las columnas de la base de datos con la finalidad de entender las columnas que tiene la tabla de vinos y dar un buen analisis."
   ]
  },
  {
   "cell_type": "code",
   "execution_count": 8,
   "metadata": {},
   "outputs": [
    {
     "data": {
      "text/plain": [
       "Index(['Unnamed: 0', 'country', 'description', 'designation', 'points',\n",
       "       'price', 'province', 'region_1', 'region_2', 'variety', 'winery'],\n",
       "      dtype='object')"
      ]
     },
     "execution_count": 8,
     "metadata": {},
     "output_type": "execute_result"
    }
   ],
   "source": [
    "df.columns"
   ]
  },
  {
   "cell_type": "markdown",
   "metadata": {},
   "source": [
    "Una vez visualizado los nombres de las columnas de la base de datos y la infomracion comenzaremos a analizar el tipo de datos que tienen las columnas para entender con que columnas vamos a estar trabajando para visualizar las graficas y los calculos que tienen como la suma, calculos de la media, desviacion estandar, etc. \n",
    "\n",
    "A continuacion se mostrara los tipos de datos que tienen las columnas de la base de datos:\n"
   ]
  },
  {
   "cell_type": "code",
   "execution_count": 9,
   "metadata": {},
   "outputs": [
    {
     "data": {
      "text/plain": [
       "Unnamed: 0       int64\n",
       "country         object\n",
       "description     object\n",
       "designation     object\n",
       "points           int64\n",
       "price          float64\n",
       "province        object\n",
       "region_1        object\n",
       "region_2        object\n",
       "variety         object\n",
       "winery          object\n",
       "dtype: object"
      ]
     },
     "execution_count": 9,
     "metadata": {},
     "output_type": "execute_result"
    }
   ],
   "source": [
    "df.dtypes"
   ]
  },
  {
   "cell_type": "markdown",
   "metadata": {},
   "source": [
    "Por lo que vemos nadamas las columnas que contenen valores numericos son las de 'points' y 'price', por lo que esas seran las tablas con las que trabajaremos para hacer los calculos y crear las graficas. Y muy poco la de 'province'.\n",
    "\n",
    "Comenzaremos a realizar los calculos estadisticos de estas dos columnas, utilizando la funcion cumsum() para mostrar los acumulados de registro a registro correspondiente a cada columna para entender la distribicion de los datos y ver un total de puntos y precios de venta. Nadamas que para este caso solo se tomaran en cuenta 25 registros debdio a que contienen mas de 100,000 datos"
   ]
  },
  {
   "cell_type": "code",
   "execution_count": 10,
   "metadata": {},
   "outputs": [
    {
     "data": {
      "text/plain": [
       "0       96\n",
       "1      192\n",
       "2      288\n",
       "3      384\n",
       "4      479\n",
       "5      574\n",
       "6      669\n",
       "7      764\n",
       "8      859\n",
       "9      954\n",
       "10    1049\n",
       "11    1144\n",
       "12    1239\n",
       "13    1334\n",
       "14    1429\n",
       "15    1524\n",
       "16    1619\n",
       "17    1714\n",
       "18    1809\n",
       "19    1904\n",
       "20    1999\n",
       "21    2094\n",
       "22    2189\n",
       "23    2284\n",
       "24    2379\n",
       "Name: points, dtype: int64"
      ]
     },
     "execution_count": 10,
     "metadata": {},
     "output_type": "execute_result"
    }
   ],
   "source": [
    "df['points'].head(25).cumsum()"
   ]
  },
  {
   "cell_type": "code",
   "execution_count": 11,
   "metadata": {},
   "outputs": [
    {
     "data": {
      "text/plain": [
       "0      235.0\n",
       "1      345.0\n",
       "2      435.0\n",
       "3      500.0\n",
       "4      566.0\n",
       "5      639.0\n",
       "6      704.0\n",
       "7      814.0\n",
       "8      879.0\n",
       "9      939.0\n",
       "10    1019.0\n",
       "11    1067.0\n",
       "12    1115.0\n",
       "13    1205.0\n",
       "14    1390.0\n",
       "15    1480.0\n",
       "16    1805.0\n",
       "17    1885.0\n",
       "18    2175.0\n",
       "19    2250.0\n",
       "20    2274.0\n",
       "21    2353.0\n",
       "22    2573.0\n",
       "23    2633.0\n",
       "24    2678.0\n",
       "Name: price, dtype: float64"
      ]
     },
     "execution_count": 11,
     "metadata": {},
     "output_type": "execute_result"
    }
   ],
   "source": [
    "df['price'].head(25).cumsum()"
   ]
  },
  {
   "cell_type": "markdown",
   "metadata": {},
   "source": [
    "## Descripcion estadistica estandar"
   ]
  },
  {
   "cell_type": "markdown",
   "metadata": {},
   "source": [
    "En esta parte se realizara un analisis estadistico sobre las dos columnas mencionadas, las de puntos(points) y precio(price) de las ventas de los vinos. Para estos calculos se tomaran en cuenta todos los registros para saber como son los resultados mas en detalle.\n",
    "\n",
    "Por lo que comenzaremos a calcular las medias de las columnas 'price' y 'points':"
   ]
  },
  {
   "cell_type": "code",
   "execution_count": 12,
   "metadata": {},
   "outputs": [
    {
     "data": {
      "text/plain": [
       "88.0"
      ]
     },
     "execution_count": 12,
     "metadata": {},
     "output_type": "execute_result"
    }
   ],
   "source": [
    "df['points'].median()"
   ]
  },
  {
   "cell_type": "code",
   "execution_count": 13,
   "metadata": {},
   "outputs": [
    {
     "data": {
      "text/plain": [
       "24.0"
      ]
     },
     "execution_count": 13,
     "metadata": {},
     "output_type": "execute_result"
    }
   ],
   "source": [
    "df['price'].median()"
   ]
  },
  {
   "cell_type": "markdown",
   "metadata": {},
   "source": [
    "Tambien las desviaciones estandar de las columnas 'price' y 'points':"
   ]
  },
  {
   "cell_type": "code",
   "execution_count": 14,
   "metadata": {},
   "outputs": [
    {
     "data": {
      "text/plain": [
       "3.2223917589832167"
      ]
     },
     "execution_count": 14,
     "metadata": {},
     "output_type": "execute_result"
    }
   ],
   "source": [
    "df['points'].std()"
   ]
  },
  {
   "cell_type": "code",
   "execution_count": 15,
   "metadata": {},
   "outputs": [
    {
     "data": {
      "text/plain": [
       "36.32253619648552"
      ]
     },
     "execution_count": 15,
     "metadata": {},
     "output_type": "execute_result"
    }
   ],
   "source": [
    "df['price'].std()"
   ]
  },
  {
   "cell_type": "markdown",
   "metadata": {},
   "source": [
    "## Aplicacion de las graficas"
   ]
  },
  {
   "cell_type": "markdown",
   "metadata": {},
   "source": [
    "Para la utilizacion de las graficas comenzaremos a agrupar de la tabla de vinos, los puntos de venta de cada provincia. Como son demaciadas provincias en la base de datos, se tomaran solo 25 provincias que estaran ordenada de mayor a menor. Por lo que en la siguiente grafica se visualizaran las provincias que tienen mayor numero de venta de vino."
   ]
  },
  {
   "cell_type": "code",
   "execution_count": 16,
   "metadata": {},
   "outputs": [
    {
     "data": {
      "text/plain": [
       "<matplotlib.axes._subplots.AxesSubplot at 0x2471a476b48>"
      ]
     },
     "execution_count": 16,
     "metadata": {},
     "output_type": "execute_result"
    },
    {
     "data": {
      "image/png": "[encoded data removed]",
      "text/plain": [
       "<Figure size 432x288 with 1 Axes>"
      ]
     },
     "metadata": {
      "needs_background": "light"
     },
     "output_type": "display_data"
    }
   ],
   "source": [
    "%matplotlib inline\n",
    "df['province'].value_counts().head(25).plot.bar()"
   ]
  },
  {
   "cell_type": "markdown",
   "metadata": {},
   "source": [
    "Como se ve en la grafica anterior, la provincia con mayor numero de venta es California. Concluyendo que la grafica de barras es muy util para realizar comparaciones entre varias columnas para determinar un objetivo en particula, si es obtener el menor dato de una columna o mayor. \n",
    "\n",
    "Despues comenzaremos a mostrar un histograma de como se distribuyen los valores de los precios de venta y determinar de manera visual los precios de venta que mas se repiten."
   ]
  },
  {
   "cell_type": "code",
   "execution_count": 17,
   "metadata": {},
   "outputs": [
    {
     "data": {
      "text/plain": [
       "<matplotlib.axes._subplots.AxesSubplot at 0x2471a575288>"
      ]
     },
     "execution_count": 17,
     "metadata": {},
     "output_type": "execute_result"
    },
    {
     "data": {
      "image/png": "[encoded data removed]",
      "text/plain": [
       "<Figure size 432x288 with 1 Axes>"
      ]
     },
     "metadata": {
      "needs_background": "light"
     },
     "output_type": "display_data"
    }
   ],
   "source": [
    "df[df['points'] < 100]['points'].plot.hist()"
   ]
  },
  {
   "cell_type": "markdown",
   "metadata": {},
   "source": [
    "Por lo que se concluye que el mayor puntaje de venta obtenido de 100 datos de toda la muestra es entre el rango de 86-88. Y que el histograma para este tipo analisis podemos ver mas a detalle el comportamiento mas a detalle sobre una sola columna en particular."
   ]
  },
  {
   "cell_type": "markdown",
   "metadata": {},
   "source": [
    "Para la visualizacion de las graficas de Seaborn utilizaremos las librerias que se veran a continuacion, ya que debido a ellas dependera de la visualizacion de las graficas."
   ]
  },
  {
   "cell_type": "code",
   "execution_count": 18,
   "metadata": {},
   "outputs": [],
   "source": [
    "import seaborn as sn\n",
    "import matplotlib.pyplot as plt\n",
    "import pandas as pd\n",
    "import seaborn as sns"
   ]
  },
  {
   "cell_type": "markdown",
   "metadata": {},
   "source": [
    "Se utilizara la grafica de Seaborn(joinplot) para ver las interacciones que puedan haber entre las dos columnas que se van a manejar que son las de : 'price', 'points'. La finalidad de la grafica sera si hay un crecimiento de las variables con respecto a otra variable, en este caso lo aplicaremos con las columnas de 'points' y 'price' para ver si hay una correlacion positiva entre estas columnas, por lo que a continuacion se visulaizara la grafica para ver que nos dice:   "
   ]
  },
  {
   "cell_type": "code",
   "execution_count": 23,
   "metadata": {},
   "outputs": [
    {
     "data": {
      "text/plain": [
       "<seaborn.axisgrid.JointGrid at 0x2471b628508>"
      ]
     },
     "execution_count": 23,
     "metadata": {},
     "output_type": "execute_result"
    },
    {
     "data": {
      "image/png": "[encoded data removed]",
      "text/plain": [
       "<Figure size 432x432 with 3 Axes>"
      ]
     },
     "metadata": {
      "needs_background": "light"
     },
     "output_type": "display_data"
    }
   ],
   "source": [
    "sns.jointplot(x='price', y='points', data=df[df['price'] < 100], kind='reg')"
   ]
  },
  {
   "cell_type": "markdown",
   "metadata": {},
   "source": [
    "Por lo que se ve que el precio va aumentando conforme aumente la calificacion que obtiene el vino, por lo que es algo logico ya que la calificacion que obtiene quiere decir que el vino es de mejor calidad y por eso el precio es tan elevado."
   ]
  },
  {
   "cell_type": "markdown",
   "metadata": {},
   "source": [
    "Ahora para hacer una visualizacion mas legible entre los datos, la informacion se visualizara en forma de hexagonos para entenderlo bien. "
   ]
  },
  {
   "cell_type": "code",
   "execution_count": 25,
   "metadata": {},
   "outputs": [
    {
     "data": {
      "text/plain": [
       "<seaborn.axisgrid.JointGrid at 0x2471e609a08>"
      ]
     },
     "execution_count": 25,
     "metadata": {},
     "output_type": "execute_result"
    },
    {
     "data": {
      "image/png": "[encoded data removed]",
      "text/plain": [
       "<Figure size 432x432 with 3 Axes>"
      ]
     },
     "metadata": {
      "needs_background": "light"
     },
     "output_type": "display_data"
    }
   ],
   "source": [
    "sns.jointplot(x='price', y='points', data=df[df['price'] < 100], kind='hex', gridsize=20)"
   ]
  },
  {
   "cell_type": "markdown",
   "metadata": {},
   "source": [
    "Por ultimo se utilizara la grafica de pairplot(), para ver las interacciones que puedan haber entre las dos columnas que se van a manejar que son las de : 'price', 'points' y entender de manera legible como estan formados los datos en la grafica. A continuacion se mostrara un histograma de distribucion y graficos de dispersion para poder buscar una correlacion que hay entre la tabla de precios con la de punto de venta."
   ]
  },
  {
   "cell_type": "code",
   "execution_count": null,
   "metadata": {},
   "outputs": [
    {
     "name": "stderr",
     "output_type": "stream",
     "text": [
      "C:\\Users\\LIZETH\\Anaconda3\\lib\\site-packages\\numpy\\lib\\histograms.py:824: RuntimeWarning: invalid value encountered in greater_equal\n",
      "  keep = (tmp_a >= first_edge)\n",
      "C:\\Users\\LIZETH\\Anaconda3\\lib\\site-packages\\numpy\\lib\\histograms.py:825: RuntimeWarning: invalid value encountered in less_equal\n",
      "  keep &= (tmp_a <= last_edge)\n"
     ]
    }
   ],
   "source": [
    "sns.pairplot(df[['points', 'price']])"
   ]
  },
  {
   "cell_type": "markdown",
   "metadata": {},
   "source": [
    "Por lo que en esta grafica se concluye que hay una correlacion entre los precios y calificaciones de la venta de los vinos ya que en la primera mitad del grafico vemos que la calificacion obtenida por los vinos hace que su precio aumente; y en la segunda mitad del grafico observamos de igual manera que el precio del vino aumenta por la calidad que este tiene.  \n"
   ]
  }
 ],
 "metadata": {
  "kernelspec": {
   "display_name": "Python 3",
   "language": "python",
   "name": "python3"
  },
  "language_info": {
   "codemirror_mode": {
    "name": "ipython",
    "version": 3
   },
   "file_extension": ".py",
   "mimetype": "text/x-python",
   "name": "python",
   "nbconvert_exporter": "python",
   "pygments_lexer": "ipython3",
   "version": "3.7.4"
  }
 },
 "nbformat": 4,
 "nbformat_minor": 2
}
