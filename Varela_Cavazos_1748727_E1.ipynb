{
 "cells": [
  {
   "cell_type": "markdown",
   "metadata": {},
   "source": [
    "# Alumno: Varela Cavazos Cesar Gerardo"
   ]
  },
  {
   "cell_type": "markdown",
   "metadata": {},
   "source": [
    "## Examen 2: Ejercicios de Python."
   ]
  },
  {
   "cell_type": "markdown",
   "metadata": {},
   "source": [
    "### 1.- Dando lista A = [3, 2, 7, 4, 12, 9, 6, 1] desarrolla los siguientes 3 ejercicios.\n",
    "\n",
    "- Imprime la sumatoria de todos los elementos.\n",
    "- Ordenalos de mayor a menor.\n",
    "- Haz una nueva lista pero solo con sus elementos pares."
   ]
  },
  {
   "cell_type": "code",
   "execution_count": 1,
   "metadata": {},
   "outputs": [
    {
     "data": {
      "text/plain": [
       "44"
      ]
     },
     "execution_count": 1,
     "metadata": {},
     "output_type": "execute_result"
    }
   ],
   "source": [
    "# Imprime la sumatoria de todos los elementos en a = [3, 2, 7, 4, 12, 9, 6, 1].\n",
    "a= [3, 2, 7, 4, 12, 9, 6, 1]\n",
    "sum(a)"
   ]
  },
  {
   "cell_type": "code",
   "execution_count": 4,
   "metadata": {},
   "outputs": [
    {
     "data": {
      "text/plain": [
       "[12, 9, 7, 6, 4, 3, 2, 1]"
      ]
     },
     "execution_count": 4,
     "metadata": {},
     "output_type": "execute_result"
    }
   ],
   "source": [
    "# Ordenalos de mayor a menor\n",
    "sorted(a, reverse=True)"
   ]
  },
  {
   "cell_type": "code",
   "execution_count": 8,
   "metadata": {},
   "outputs": [
    {
     "data": {
      "text/plain": [
       "[2, 4, 12, 6]"
      ]
     },
     "execution_count": 8,
     "metadata": {},
     "output_type": "execute_result"
    }
   ],
   "source": [
    "# Haz una nueva lista pero solo con sus elementos pares\n",
    "lista_n = []\n",
    "for i in a:\n",
    "    if i % 2 == 0:\n",
    "        lista_n.append(i)\n",
    "    \n",
    "lista_n "
   ]
  },
  {
   "cell_type": "markdown",
   "metadata": {},
   "source": [
    "### 2.- Dale valor a dos variables y realiza 5 funciones que regresen como resultado diferentes operaciones aritmeticas (suma, resta, etc...). "
   ]
  },
  {
   "cell_type": "code",
   "execution_count": 10,
   "metadata": {},
   "outputs": [],
   "source": [
    "def suma(numero1, numero2):\n",
    "    return numero1 + numero2\n",
    "\n",
    "def resta(numero1, numero2):\n",
    "    return numero1 - numero2\n",
    "\n",
    "def multiplicacion(numero1, numero2):\n",
    "    return numero1 * numero2\n",
    "\n",
    "def division(numero1, numero2):\n",
    "    return numero1/numero2\n",
    "\n",
    "def cuadrado(numero1):\n",
    "    return numero1 ** 2\n",
    "\n",
    "num1 = 5\n",
    "num2 = 7.5"
   ]
  },
  {
   "cell_type": "code",
   "execution_count": 11,
   "metadata": {},
   "outputs": [
    {
     "data": {
      "text/plain": [
       "12.5"
      ]
     },
     "execution_count": 11,
     "metadata": {},
     "output_type": "execute_result"
    }
   ],
   "source": [
    "suma(num1,num2)"
   ]
  },
  {
   "cell_type": "code",
   "execution_count": 12,
   "metadata": {},
   "outputs": [
    {
     "data": {
      "text/plain": [
       "-2.5"
      ]
     },
     "execution_count": 12,
     "metadata": {},
     "output_type": "execute_result"
    }
   ],
   "source": [
    "resta(num1,num2)"
   ]
  },
  {
   "cell_type": "code",
   "execution_count": 13,
   "metadata": {},
   "outputs": [
    {
     "data": {
      "text/plain": [
       "37.5"
      ]
     },
     "execution_count": 13,
     "metadata": {},
     "output_type": "execute_result"
    }
   ],
   "source": [
    "multiplicacion(num1,num2)"
   ]
  },
  {
   "cell_type": "code",
   "execution_count": 14,
   "metadata": {},
   "outputs": [
    {
     "data": {
      "text/plain": [
       "0.6666666666666666"
      ]
     },
     "execution_count": 14,
     "metadata": {},
     "output_type": "execute_result"
    }
   ],
   "source": [
    "division(num1,num2)"
   ]
  },
  {
   "cell_type": "code",
   "execution_count": 15,
   "metadata": {},
   "outputs": [
    {
     "data": {
      "text/plain": [
       "25"
      ]
     },
     "execution_count": 15,
     "metadata": {},
     "output_type": "execute_result"
    }
   ],
   "source": [
    "cuadrado(num1)"
   ]
  },
  {
   "cell_type": "markdown",
   "metadata": {},
   "source": [
    "### 3.- Dada la lista A = [3, 2, 7, 4, 12, 9, 6, 1] y lista B = [13, 16, 21, 34, 18, 17, 11, 10] crea una lista nueva que contenga solo los datos impares de ambas listas."
   ]
  },
  {
   "cell_type": "code",
   "execution_count": 22,
   "metadata": {},
   "outputs": [],
   "source": [
    "A = [3, 2, 7, 4, 12, 9, 6, 1]\n",
    "B = [13, 16, 21, 34, 18, 17, 11, 10]\n",
    "\n",
    "lista1= []\n",
    "lista2= []\n",
    "\n",
    "for i in A:\n",
    "    if i % 2 != 0:\n",
    "        lista1.append(i)\n",
    "        \n",
    "for j in B:\n",
    "    if j % 2 != 0:\n",
    "        lista2.append(j)"
   ]
  },
  {
   "cell_type": "code",
   "execution_count": 23,
   "metadata": {},
   "outputs": [
    {
     "data": {
      "text/plain": [
       "[3, 7, 9, 1]"
      ]
     },
     "execution_count": 23,
     "metadata": {},
     "output_type": "execute_result"
    }
   ],
   "source": [
    "lista1"
   ]
  },
  {
   "cell_type": "code",
   "execution_count": 24,
   "metadata": {},
   "outputs": [
    {
     "data": {
      "text/plain": [
       "[13, 21, 17, 11]"
      ]
     },
     "execution_count": 24,
     "metadata": {},
     "output_type": "execute_result"
    }
   ],
   "source": [
    "lista2"
   ]
  },
  {
   "cell_type": "markdown",
   "metadata": {},
   "source": [
    "### 4.- Dadas las variables W = 11, X = 17, Y = 32, Z = 65, crea una función que clasifique por grupos de edad (niño, adolecente, adulto, adulto mayor. (Utiliza el elif)"
   ]
  },
  {
   "cell_type": "code",
   "execution_count": 31,
   "metadata": {},
   "outputs": [
    {
     "name": "stdout",
     "output_type": "stream",
     "text": [
      "Es un niño\n"
     ]
    }
   ],
   "source": [
    "def edades(n):\n",
    "    if n == 11:\n",
    "        print(\"Es un niño\")\n",
    "    elif n == 17:\n",
    "        print(\"Es un adolecente\")\n",
    "    elif n == 32:\n",
    "        print(\"Es un adulto\")\n",
    "    elif n == 65:\n",
    "        print(\"Es un adulto mayor\")\n",
    "        \n",
    "w= 11\n",
    "x= 17\n",
    "y= 32\n",
    "z= 65\n",
    "\n",
    "edades(w)"
   ]
  },
  {
   "cell_type": "code",
   "execution_count": 32,
   "metadata": {},
   "outputs": [
    {
     "name": "stdout",
     "output_type": "stream",
     "text": [
      "Es un adolecente\n"
     ]
    }
   ],
   "source": [
    "edades(x)"
   ]
  },
  {
   "cell_type": "code",
   "execution_count": 33,
   "metadata": {},
   "outputs": [
    {
     "name": "stdout",
     "output_type": "stream",
     "text": [
      "Es un adulto\n"
     ]
    }
   ],
   "source": [
    "edades(y)"
   ]
  },
  {
   "cell_type": "code",
   "execution_count": 34,
   "metadata": {},
   "outputs": [
    {
     "name": "stdout",
     "output_type": "stream",
     "text": [
      "Es un adulto mayor\n"
     ]
    }
   ],
   "source": [
    "edades(z)"
   ]
  },
  {
   "cell_type": "markdown",
   "metadata": {},
   "source": [
    "### 5.- Utilizando cualquiera de las condicionales (for, if, while...) imprime los siguientes patrones tal y como aparecen en el comentario, respetando los espacios y los saltos de renglon.\n"
   ]
  },
  {
   "cell_type": "code",
   "execution_count": 55,
   "metadata": {},
   "outputs": [
    {
     "name": "stdout",
     "output_type": "stream",
     "text": [
      "\n",
      "1 \n",
      "2 2 \n",
      "3 3 3 \n",
      "4 4 4 4 \n",
      "5 5 5 5 5 "
     ]
    }
   ],
   "source": [
    "#1 \n",
    "#2 2\n",
    "#3 3 3\n",
    "#4 4 4 4\n",
    "#5 5 5 5 5\n",
    "n=5\n",
    "for i in range(1,i+1):\n",
    "    print(\"\")\n",
    "    for j in range(1,i+1):\n",
    "        print (i, end=\" \")"
   ]
  },
  {
   "cell_type": "code",
   "execution_count": 147,
   "metadata": {},
   "outputs": [
    {
     "name": "stdout",
     "output_type": "stream",
     "text": [
      "5 4 3 2 1 \t\n",
      "4 3 2 1 \t\n",
      "3 2 1 \t\n",
      "2 1 \t\n",
      "1 \t\n"
     ]
    }
   ],
   "source": [
    "#5 4 3 2 1 \n",
    "#4 3 2 1\n",
    "#3 2 1 \n",
    "#2 1\n",
    "#1\n",
    "nu=6\n",
    "for c in range(nu-1):\n",
    "    d=nu\n",
    "    nu = nu - 1\n",
    "    for c in range(5-c):\n",
    "        d=d-1\n",
    "        print(d, end=\" \")\n",
    "    print(\"\\t\")"
   ]
  },
  {
   "cell_type": "markdown",
   "metadata": {},
   "source": [
    "### 6.- Con la lista A = [3, 2, 7, 4, 12, 9, 6, 1] y el uso de condicionales, imprime una nueva lista con cada uno de los elementos de la lista A, al cuadrado."
   ]
  },
  {
   "cell_type": "code",
   "execution_count": 121,
   "metadata": {},
   "outputs": [
    {
     "data": {
      "text/plain": [
       "[9, 4, 49, 16, 144, 81, 36, 1]"
      ]
     },
     "execution_count": 121,
     "metadata": {},
     "output_type": "execute_result"
    }
   ],
   "source": [
    "A = [3, 2, 7, 4, 12, 9, 6, 1] \n",
    "lista3= []\n",
    "for e in A:\n",
    "    cuadrado= e ** 2\n",
    "    lista3.append(cuadrado)\n",
    "\n",
    "lista3"
   ]
  },
  {
   "cell_type": "markdown",
   "metadata": {},
   "source": [
    "Conteste los tres puntos para obtener la totalidad de los puntos. *Mencione al menos 3 palabras reservadas para el lenguaje de programación de Python. *Describa la diferencia principal entre las listas y las tuplas en Python. *Describa para que sirve el condicional ELIF."
   ]
  },
  {
   "cell_type": "markdown",
   "metadata": {},
   "source": [
    "Palabras reservadas: elif, if, and"
   ]
  },
  {
   "cell_type": "markdown",
   "metadata": {},
   "source": [
    "Diferencia entre una lista y una tupla: una tupla no puede ser modificada, las listas pueden ser modificadas."
   ]
  },
  {
   "cell_type": "markdown",
   "metadata": {},
   "source": [
    "El ELIF es una sentencia que sirve para hacer que si una condicion no se cumple, entre en otro condicional."
   ]
  },
  {
   "cell_type": "code",
   "execution_count": null,
   "metadata": {},
   "outputs": [],
   "source": []
  }
 ],
 "metadata": {
  "kernelspec": {
   "display_name": "Python 3",
   "language": "python",
   "name": "python3"
  },
  "language_info": {
   "codemirror_mode": {
    "name": "ipython",
    "version": 3
   },
   "file_extension": ".py",
   "mimetype": "text/x-python",
   "name": "python",
   "nbconvert_exporter": "python",
   "pygments_lexer": "ipython3",
   "version": "3.7.4"
  }
 },
 "nbformat": 4,
 "nbformat_minor": 2
}
